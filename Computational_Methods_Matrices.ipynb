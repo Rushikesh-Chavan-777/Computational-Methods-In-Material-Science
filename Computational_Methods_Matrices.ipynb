{
  "nbformat": 4,
  "nbformat_minor": 0,
  "metadata": {
    "colab": {
      "provenance": []
    },
    "kernelspec": {
      "name": "python3",
      "display_name": "Python 3"
    },
    "language_info": {
      "name": "python"
    }
  },
  "cells": [
    {
      "cell_type": "code",
      "execution_count": 1,
      "metadata": {
        "id": "Ze6PEAgCzTL4"
      },
      "outputs": [],
      "source": [
        "import numpy as np"
      ]
    },
    {
      "cell_type": "markdown",
      "source": [
        "Understanding the norm of a matrix\n",
        "\n",
        "\n",
        "The norm of a matrix is a way to measure the \"size\" or \"magnitude\" of a matrix, similar to how the absolute value measures the size of a number. It's a non-negative real number that satisfies certain properties.\n",
        "\n",
        "There are different types of matrix norms, each with its own meaning and applications. Some common ones include:\n",
        "\n",
        "**Frobenius norm:** This norm calculates the square root of the sum of the squares of all the elements in the matrix. It's often used to measure the overall size or magnitude of a matrix, similar to the Euclidean norm for vectors.\n",
        "\n",
        "**1-norm:** This norm calculates the maximum absolute column sum of the matrix. It represents the maximum influence a single column can have on the output.\n",
        "\n",
        "**Infinite-norm:**This norm calculates the maximum absolute row sum of the matrix. It represents the maximum influence a single row can have on the output.\n",
        "\n",
        "\n",
        "\n",
        "\n",
        "\n",
        "\n",
        "**Matrix norms have various applications in linear algebra and numerical analysis, such as:**\n",
        "\n",
        "**Error analysis:** Norms can be used to measure the error between two matrices or vectors.\n",
        "\n",
        "**Stability analysis:** Norms can be used to analyze the stability of numerical algorithms.\n",
        "\n",
        "**Conditioning of matrices:** Norms can be used to measure how sensitive a matrix is to changes in its elements."
      ],
      "metadata": {
        "id": "DBjqCBI3zkAa"
      }
    },
    {
      "cell_type": "markdown",
      "source": [
        "### Matrix Norms\n",
        "\n",
        "$$ \\lVert M \\rVert_{p} = \\Big( \\sum_{i=1}^n \\sum_{j=1}^m \\mid a_{ij} \\mid^{p} \\Big)^{1/p}$$\n",
        "\n",
        "Fornenium norm (Eucledian norm) of $M_{n \\times m}$:\n",
        "\n",
        "$$ \\lVert M \\rVert = \\Big( \\sum_{i=1}^n \\sum_{j=1}^m \\mid a_{ij} \\mid^{2} \\Big)^{1/2}$$\n",
        "\n",
        "1-norm:\n",
        "\n",
        "$$ \\lVert M \\rVert_{1} = \\max\\limits_{1\\le j \\le m} \\sum_{i=1}^n \\mid a_{ij} \\mid $$\n",
        "\n",
        "infinite-norm:\n",
        "\n",
        "$$ \\lVert M \\rVert_{\\infty} = \\max\\limits_{1\\le i \\le n} \\sum_{j=1}^m \\mid a_{ij} \\mid $$"
      ],
      "metadata": {
        "id": "FKRH_N7V0EX3"
      }
    },
    {
      "cell_type": "code",
      "source": [
        "A = np.array([[1, 2, 3], [4, 5, 6], [7, 8, 9]])\n",
        "A"
      ],
      "metadata": {
        "colab": {
          "base_uri": "https://localhost:8080/"
        },
        "id": "rXtxr54DzjL7",
        "outputId": "4f80f8b8-2ca6-4cd3-9fac-aabd065653fa"
      },
      "execution_count": 5,
      "outputs": [
        {
          "output_type": "execute_result",
          "data": {
            "text/plain": [
              "array([[1, 2, 3],\n",
              "       [4, 5, 6],\n",
              "       [7, 8, 9]])"
            ]
          },
          "metadata": {},
          "execution_count": 5
        }
      ]
    },
    {
      "cell_type": "code",
      "source": [
        "B = np.linalg.norm(A, ord = 1)\n",
        "C = np.linalg.norm(A, ord= 2)\n",
        "D = np.linalg.norm(A, ord= 'fro')\n",
        "print(B)\n",
        "print(C)\n",
        "print(D)"
      ],
      "metadata": {
        "colab": {
          "base_uri": "https://localhost:8080/"
        },
        "id": "Z--9OqDT06Yq",
        "outputId": "7cd9a6db-f510-44a9-a9a6-bdb36847f540"
      },
      "execution_count": 11,
      "outputs": [
        {
          "output_type": "stream",
          "name": "stdout",
          "text": [
            "18.0\n",
            "16.84810335261421\n",
            "16.881943016134134\n"
          ]
        }
      ]
    },
    {
      "cell_type": "markdown",
      "source": [
        "Underdstanding the difference between dot and matmul\n",
        "\n",
        "\n",
        "Matrix multiplication is an operation that takes two matrices as input and produces a new matrix as output. It's a fundamental operation in linear algebra with various applications in mathematics, computer science, and engineering.\n",
        "\n",
        "Here are some key points about matrix multiplication:\n",
        "\n",
        "Conditions for multiplication: Two matrices can be multiplied only if the number of columns in the first matrix is equal to the number of rows in the second matrix. Otherwise, the multiplication is undefined.\n",
        "Resulting matrix: The resulting matrix has the same number of rows as the first matrix and the same number of columns as the second matrix.\n",
        "Calculation: The elements of the resulting matrix are calculated by taking the dot product of the corresponding row of the first matrix and the corresponding column of the second matrix.\n",
        "Non-commutative: Matrix multiplication is not commutative, meaning that the order of multiplication matters. In general, AB is not equal to BA.\n",
        "Associative: Matrix multiplication is associative, meaning that (AB)C = A(BC)."
      ],
      "metadata": {
        "id": "K9QbNdA61lzO"
      }
    },
    {
      "cell_type": "markdown",
      "source": [
        "Talking about horizontal and vertical stack\n"
      ],
      "metadata": {
        "id": "mqpxNUt83tLG"
      }
    },
    {
      "cell_type": "code",
      "source": [
        "I = np.array([[1,2], [3,4]])\n",
        "O = np.array([5,6])\n",
        "L = np.vstack((I, O))\n",
        "print(L)\n",
        "Q = np.array([[2, 1], [7, 8]])\n",
        "N = np.hstack((Q, I))\n",
        "print(N)"
      ],
      "metadata": {
        "colab": {
          "base_uri": "https://localhost:8080/"
        },
        "id": "BbRIUcQ13xh0",
        "outputId": "12ac19db-da8d-4a54-cdb5-d665d8e0d1d8"
      },
      "execution_count": 35,
      "outputs": [
        {
          "output_type": "stream",
          "name": "stdout",
          "text": [
            "[[1 2]\n",
            " [3 4]\n",
            " [5 6]]\n",
            "[[2 1 1 2]\n",
            " [7 8 3 4]]\n"
          ]
        }
      ]
    },
    {
      "cell_type": "code",
      "source": [
        "##Algorithm to multiply m times of row j to row i\n",
        "def add_row(m, A, i, j):\n",
        "  #m is the multiplier\n",
        "  n = A.shape[0]\n",
        "  E = np.eye(n)\n",
        "  if i == j:\n",
        "    E[i,j] = m +1\n",
        "  else:\n",
        "    E[i, j] = m\n",
        "  return E @ A"
      ],
      "metadata": {
        "id": "CbySRRoo0_CW"
      },
      "execution_count": 13,
      "outputs": []
    },
    {
      "cell_type": "code",
      "source": [
        "print(A)\n",
        "A_added = add_row(2, A, 0, 1)\n",
        "print(A_added)"
      ],
      "metadata": {
        "colab": {
          "base_uri": "https://localhost:8080/"
        },
        "id": "4-KWUM812k2U",
        "outputId": "6b6c016b-154b-4de1-dc7f-a0ff6dc8af63"
      },
      "execution_count": 16,
      "outputs": [
        {
          "output_type": "stream",
          "name": "stdout",
          "text": [
            "[[1 2 3]\n",
            " [4 5 6]\n",
            " [7 8 9]]\n",
            "[[ 9. 12. 15.]\n",
            " [ 4.  5.  6.]\n",
            " [ 7.  8.  9.]]\n"
          ]
        }
      ]
    },
    {
      "cell_type": "code",
      "source": [
        "##Algorithm to swap rows in a matrix\n",
        "def swap_row(A, i, j):\n",
        "  n = A.shape[0]\n",
        "  E = np.eye(n)\n",
        "  E[i,i] = 0\n",
        "  E[j,j] = 0\n",
        "  E[i,j] = 1\n",
        "  E[j,i] = 1\n",
        "  return E @ A"
      ],
      "metadata": {
        "id": "30UWZjLY2xbR"
      },
      "execution_count": 18,
      "outputs": []
    },
    {
      "cell_type": "code",
      "source": [
        "##Algorith to scale a row of a matric my some factor\n",
        "def scale_row(m , A, i):\n",
        "  #m is the factors to scale with\n",
        "  n = A.shape[0]\n",
        "  E = np.eye(n)\n",
        "  E[i,i] = m\n",
        "  return E @ A"
      ],
      "metadata": {
        "id": "XiLHBKBa3K2p"
      },
      "execution_count": 20,
      "outputs": []
    },
    {
      "cell_type": "code",
      "source": [],
      "metadata": {
        "id": "C3eWuBRY3kur"
      },
      "execution_count": null,
      "outputs": []
    }
  ]
}