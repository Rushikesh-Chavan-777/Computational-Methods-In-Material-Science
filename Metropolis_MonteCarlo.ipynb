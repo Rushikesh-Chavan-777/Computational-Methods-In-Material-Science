{
  "cells": [
    {
      "cell_type": "markdown",
      "metadata": {
        "id": "view-in-github",
        "colab_type": "text"
      },
      "source": [
        "<a href=\"https://colab.research.google.com/github/Rushikesh-Chavan-777/Computational-Methods-In-Material-Science/blob/main/Metropolis_MonteCarlo.ipynb\" target=\"_parent\"><img src=\"https://colab.research.google.com/assets/colab-badge.svg\" alt=\"Open In Colab\"/></a>"
      ]
    },
    {
      "cell_type": "markdown",
      "id": "0496d506-0fac-4b82-bc30-535ce8c25afe",
      "metadata": {
        "id": "0496d506-0fac-4b82-bc30-535ce8c25afe"
      },
      "source": [
        "### Monte Carlo Method"
      ]
    },
    {
      "cell_type": "code",
      "execution_count": 1,
      "id": "dbefdb27-30ad-4e9b-ad22-96ec4f3c30a8",
      "metadata": {
        "id": "dbefdb27-30ad-4e9b-ad22-96ec4f3c30a8"
      },
      "outputs": [],
      "source": [
        "%matplotlib inline\n",
        "import numpy as np\n",
        "import matplotlib.pyplot as plt\n",
        "from random import random"
      ]
    },
    {
      "cell_type": "markdown",
      "id": "6f478d4c-45bc-4e71-9f07-364981d06fb1",
      "metadata": {
        "id": "6f478d4c-45bc-4e71-9f07-364981d06fb1"
      },
      "source": [
        "### Probability given using Boltzmann factor\n",
        "\n",
        "$ρ_{i} \\propto exp(−E_{i}/k_{\\mathrm{B}}T)$\n",
        "\n",
        "### Metropolis algorithm\n",
        "1. Suppose the system starts in configuration $i$ with total energy $E_i$.\n",
        "2. A trial move is made to configuration $i + 1$, and $\\Delta E_{i,i+1} = E_{i+1} − E_{i}$ is calculated.\n",
        "3. Decide whether to accept or reject the trial move:\n",
        "   - If $\\Delta E_{i,i+1} ≤ 0$, then the relative probability $ρ_{i+1}/ρ_{i} ≥ 1$, so the trial move is accepted\n",
        "and added to the trajectory.\n",
        "   - If $\\Delta E_{i,i+1} > 0$, then the move will be accepted with probability $exp(−\\Delta E/k_{\\mathrm{B}}T)$. That\n",
        "decision is made by first generating a random number R between $(0,1)$. If $R ≤ exp(−\\Delta E/k_{\\mathrm{B}}T)$ then the move is accepted and if $R > exp(−\\Delta E/k_{\\mathrm{B}}T)$, then the move is rejected.\n",
        "4. If the trial move is accepted, then the next configuration in the trajectory is the new state $(i + 1)$.\n",
        "5. If, however, the trial move is rejected, the next configuration is taken to be the same as configuration $i$.\n",
        "6. Repeat.\n",
        "\n",
        "Note:\n",
        "- When considered over many trials the metropolis algorithm yields the correct result.\n",
        "- The key to the __Monte Carlo method__ discussed in this chapter is a very clever way to sample only those configurations that are most likely."
      ]
    },
    {
      "cell_type": "markdown",
      "id": "f7a0da38-2f2c-47ac-88d7-155389cc68e8",
      "metadata": {
        "id": "f7a0da38-2f2c-47ac-88d7-155389cc68e8"
      },
      "source": [
        "#### Algorithm: Metropolis  Harmonic oscillator in 1D"
      ]
    },
    {
      "cell_type": "code",
      "execution_count": 2,
      "id": "b18f889d-486c-4369-a793-3969d8d5d243",
      "metadata": {
        "id": "b18f889d-486c-4369-a793-3969d8d5d243",
        "outputId": "ddd1e6a2-5391-4ade-f5cb-68db9bcf016d",
        "colab": {
          "base_uri": "https://localhost:8080/"
        }
      },
      "outputs": [
        {
          "output_type": "stream",
          "name": "stdout",
          "text": [
            "average E= 2.07e-21\n"
          ]
        }
      ],
      "source": [
        "# Algorithm: Metropolis  Harmonic oscillator in 1D\n",
        "\n",
        "# np.random.ranf() calculates one random number in the range 0 - 1\n",
        "\n",
        "n = 20000                         # number of samples\n",
        "deltax= 0.4                       # max displacement\n",
        "kB    = 1.38e-5                   # in kg/nm^2/s^2/K == 1.38e^(-23) J/k\n",
        "nm    = 1e-9\n",
        "T     = 300.0\n",
        "kBT   = kB*T\n",
        "Etot  = 0.0                       # initial <E>\n",
        "k     = 10.0                      # force constant\n",
        "V = lambda x: 0.5*k*x**2          # potential energy PE\n",
        "x1= 0.0                           # first guess of x\n",
        "E1= V(x1)                         # first guess of PE\n",
        "\n",
        "for i in range(n):                # start loop step(2)\n",
        "    x2 = x1 + (np.random.ranf()-0.5)*deltax       #new x position\n",
        "    E2 = V(x2)                                    # new PE\n",
        "    DeltaE = E2 - E1                              # energy difference\n",
        "    # next line is Metropolis parts(2) in algorithm\n",
        "    if DeltaE <= 0.0 or np.exp(-DeltaE/kBT) > np.random.ranf() :\n",
        "        x1= x2                    # save new configuration\n",
        "        E1= E2                    # save new energy\n",
        "        pass\n",
        "    Etot = Etot + E1              # always add to total\n",
        "    pass\n",
        "Eav = nm**2*Etot/n;               # average step (5) & put back into real units\n",
        "\n",
        "print('{:s} {:8.4g}'.format('average E=',Eav) )"
      ]
    },
    {
      "cell_type": "code",
      "execution_count": 2,
      "id": "9e9a6b46-a876-4abd-b5eb-a075965164d8",
      "metadata": {
        "id": "9e9a6b46-a876-4abd-b5eb-a075965164d8"
      },
      "outputs": [],
      "source": []
    },
    {
      "cell_type": "markdown",
      "id": "4d7d449e-d39c-440b-8cb8-6ef1f6abd2ae",
      "metadata": {
        "id": "4d7d449e-d39c-440b-8cb8-6ef1f6abd2ae"
      },
      "source": [
        "#### 1D-Ising Model with Metropolis Algorithm"
      ]
    },
    {
      "cell_type": "code",
      "execution_count": 3,
      "id": "f4368b9f-d656-42e1-8d25-a2d9cf01d454",
      "metadata": {
        "id": "f4368b9f-d656-42e1-8d25-a2d9cf01d454"
      },
      "outputs": [],
      "source": [
        "## 1D-Ising Model with Metropolis Algorithm"
      ]
    },
    {
      "cell_type": "code",
      "execution_count": 4,
      "id": "ef0ad252-6e56-4dc7-9333-94f08ce4d1eb",
      "metadata": {
        "id": "ef0ad252-6e56-4dc7-9333-94f08ce4d1eb",
        "outputId": "a55393ca-5b71-4caf-ac83-e344e806396a",
        "colab": {
          "base_uri": "https://localhost:8080/"
        }
      },
      "outputs": [
        {
          "output_type": "stream",
          "name": "stdout",
          "text": [
            "0.3623188405797101\n"
          ]
        }
      ],
      "source": [
        "L = 5\n",
        "N = 10\n",
        "kB = 1.38e-23 # Joules/Kelvin\n",
        "Etot = 0.\n",
        "avgE = 0.\n",
        "\n",
        "## Assuming\n",
        "J = 1.0e-23 # Joules\n",
        "T = 2 #Kelvin\n",
        "beta = J/(kB*T)\n",
        "\n",
        "print(beta)"
      ]
    },
    {
      "cell_type": "code",
      "execution_count": 5,
      "id": "e2f34e2b-819a-4b19-b73e-a51c7a1c78a1",
      "metadata": {
        "id": "e2f34e2b-819a-4b19-b73e-a51c7a1c78a1",
        "outputId": "60f25206-b7ac-49ba-db16-6e8f3c083b70",
        "colab": {
          "base_uri": "https://localhost:8080/"
        }
      },
      "outputs": [
        {
          "output_type": "stream",
          "name": "stdout",
          "text": [
            "[1 2 3 2 4 0 4 2 3 3]\n"
          ]
        }
      ],
      "source": [
        "randindex = np.random.randint(L,size=N, dtype=int)\n",
        "print(randindex)"
      ]
    },
    {
      "cell_type": "code",
      "execution_count": 6,
      "id": "c8bda3fe-c00b-4f32-ae4f-b141ccd08f6c",
      "metadata": {
        "id": "c8bda3fe-c00b-4f32-ae4f-b141ccd08f6c",
        "outputId": "9231f66a-0f89-439f-d19e-70c6d5c17207",
        "colab": {
          "base_uri": "https://localhost:8080/"
        }
      },
      "outputs": [
        {
          "output_type": "execute_result",
          "data": {
            "text/plain": [
              "array([0, 0, 0, 0, 0])"
            ]
          },
          "metadata": {},
          "execution_count": 6
        }
      ],
      "source": [
        "s = np.zeros(L,dtype=int)\n",
        "s"
      ]
    },
    {
      "cell_type": "code",
      "execution_count": 7,
      "id": "caf53cff-75a1-4af2-b736-2cd8f00fd8a8",
      "metadata": {
        "id": "caf53cff-75a1-4af2-b736-2cd8f00fd8a8",
        "outputId": "13edf17c-cbbf-49f8-93a3-c5f0f1ac078f",
        "colab": {
          "base_uri": "https://localhost:8080/"
        }
      },
      "outputs": [
        {
          "output_type": "stream",
          "name": "stdout",
          "text": [
            "[1 1 1 1 1]\n"
          ]
        }
      ],
      "source": [
        "## Initialize spin\n",
        "for i in range(len(s)):\n",
        "    s[i] = 1\n",
        "\n",
        "print(s)"
      ]
    },
    {
      "cell_type": "code",
      "execution_count": 8,
      "id": "193c4128-b8ce-4bf3-b7fc-c085e2f611f5",
      "metadata": {
        "id": "193c4128-b8ce-4bf3-b7fc-c085e2f611f5",
        "outputId": "a1f728d7-346e-459b-b97a-814883037a83",
        "colab": {
          "base_uri": "https://localhost:8080/"
        }
      },
      "outputs": [
        {
          "output_type": "execute_result",
          "data": {
            "text/plain": [
              "5"
            ]
          },
          "metadata": {},
          "execution_count": 8
        }
      ],
      "source": [
        "np.sum(s)"
      ]
    },
    {
      "cell_type": "code",
      "execution_count": 9,
      "id": "370b5992-7cea-43fe-922a-b504ffdc0215",
      "metadata": {
        "id": "370b5992-7cea-43fe-922a-b504ffdc0215",
        "outputId": "9ff9d0bb-eb4f-4632-ee0a-d263f3525689",
        "colab": {
          "base_uri": "https://localhost:8080/"
        }
      },
      "outputs": [
        {
          "output_type": "stream",
          "name": "stdout",
          "text": [
            "5.0\n"
          ]
        }
      ],
      "source": [
        "sum = 0.\n",
        "for i in range(len(s)):\n",
        "    if i+1 > len(s)-1:\n",
        "        sum = sum + s[i]*s[0]\n",
        "    else:\n",
        "        sum = sum + s[i]*s[i+1]\n",
        "\n",
        "print(sum)"
      ]
    },
    {
      "cell_type": "code",
      "execution_count": 10,
      "id": "39c7d98a-b901-4f47-8c2f-5ff4fffa9cf3",
      "metadata": {
        "id": "39c7d98a-b901-4f47-8c2f-5ff4fffa9cf3",
        "outputId": "33f8806a-df33-4760-d64c-c36db959e778",
        "colab": {
          "base_uri": "https://localhost:8080/"
        }
      },
      "outputs": [
        {
          "output_type": "stream",
          "name": "stdout",
          "text": [
            "-1.8115942028985503\n"
          ]
        }
      ],
      "source": [
        "E1 = -1*beta*sum\n",
        "print(E1)"
      ]
    },
    {
      "cell_type": "code",
      "execution_count": 11,
      "id": "25fa1730-6ecf-4bb9-9842-e5fcdce08ff2",
      "metadata": {
        "id": "25fa1730-6ecf-4bb9-9842-e5fcdce08ff2"
      },
      "outputs": [],
      "source": [
        "for k in range(N):\n",
        "    index = randindex[k]\n",
        "    s[index] = -1*s[index]\n",
        "    sum = 0.\n",
        "    for i in range(len(s)):\n",
        "        if i+1 > len(s)-1:\n",
        "            sum = sum + s[i]*s[0]\n",
        "        else:\n",
        "            sum = sum + s[i]*s[i+1]\n",
        "    E2 = -1*beta*sum\n",
        "    deltaE = E2-E1\n",
        "    if deltaE <= 0. or np.random.ranf() < np.exp(-1*deltaE):\n",
        "        E1 = E2\n",
        "    else:\n",
        "        s[index]= -1*s[index]\n",
        "    Etot = Etot + E1"
      ]
    },
    {
      "cell_type": "code",
      "execution_count": 12,
      "id": "671c1c2f-623f-485f-b790-687632b0d9ad",
      "metadata": {
        "id": "671c1c2f-623f-485f-b790-687632b0d9ad",
        "outputId": "033c3f0d-6ae3-40dc-ba13-66c826f7a983",
        "colab": {
          "base_uri": "https://localhost:8080/"
        }
      },
      "outputs": [
        {
          "output_type": "stream",
          "name": "stdout",
          "text": [
            "-0.5072463768115941\n"
          ]
        }
      ],
      "source": [
        "avgE = Etot/N\n",
        "print(avgE)"
      ]
    },
    {
      "cell_type": "code",
      "execution_count": 13,
      "id": "568b2e67-479c-4e2b-925e-1e2ad5312f32",
      "metadata": {
        "id": "568b2e67-479c-4e2b-925e-1e2ad5312f32"
      },
      "outputs": [],
      "source": [
        "def Ising1D(L, N, T):\n",
        "    J = 1.38e-23 # Joules\n",
        "    kB = 1.38e-23 # Joules/Kelvin\n",
        "    beta = J/(kB*T)\n",
        "    Etot = 0.\n",
        "    Mtot = 0.\n",
        "    Ctot = 0.\n",
        "\n",
        "    randindex = np.random.randint(L,size=N, dtype=int)\n",
        "    s = np.zeros(L,dtype=int)\n",
        "\n",
        "    ##Initialize FM-configuration\n",
        "    for i in range(len(s)):\n",
        "        s[i] = 1\n",
        "\n",
        "    ##Calcuate inital total spin\n",
        "    S1 = np.sum(s)\n",
        "\n",
        "    ##Calculate initial energy\n",
        "    sum = 0.\n",
        "    for i in range(len(s)):\n",
        "        if i+1 > len(s)-1:\n",
        "            sum = sum + s[i]*s[0]\n",
        "        else:\n",
        "            sum = sum + s[i]*s[i+1]\n",
        "\n",
        "    E1 = -1*beta*sum\n",
        "    C1 = sum\n",
        "\n",
        "    Etot = Etot + E1\n",
        "    Mtot = Mtot + S1\n",
        "\n",
        "    ##change configuration + Evalue dE + Metropolis algorithm\n",
        "    for k in range(N):\n",
        "        index = randindex[k]\n",
        "        s[index] = -1*s[index]\n",
        "        sum = 0.\n",
        "        for i in range(len(s)):\n",
        "            if i+1 > len(s)-1:\n",
        "                sum = sum + s[i]*s[0]\n",
        "            else:\n",
        "                sum = sum + s[i]*s[i+1]\n",
        "\n",
        "        E2 = -1*beta*sum\n",
        "        S2 = np.sum(s)\n",
        "        C2 = sum\n",
        "\n",
        "        deltaE = E2-E1\n",
        "        if deltaE <= 0. or np.random.ranf() < np.exp(-1*deltaE):\n",
        "            E1 = E2\n",
        "            S1 = S2\n",
        "            C1 = C2\n",
        "        else:\n",
        "            s[index]= -1*s[index]\n",
        "\n",
        "        Etot = Etot + E1\n",
        "        Mtot = Mtot + S1\n",
        "        Ctot = Ctot + C1\n",
        "\n",
        "    return Etot, Mtot, Ctot"
      ]
    },
    {
      "cell_type": "code",
      "execution_count": 14,
      "id": "8095d2bf-0dfe-40fd-ae6f-dad029bba621",
      "metadata": {
        "id": "8095d2bf-0dfe-40fd-ae6f-dad029bba621"
      },
      "outputs": [],
      "source": [
        "# L = 3\n",
        "# N = 5\n",
        "# T = 2\n",
        "# avgE = 0.\n",
        "\n",
        "# Etotal, Mtotal = Ising1D(L, N, T)\n",
        "# avgE = Etotal/N\n",
        "# avgM = Mtotal/N\n",
        "\n",
        "# print(avgE, avgM)"
      ]
    },
    {
      "cell_type": "code",
      "execution_count": 15,
      "id": "8bdc9a62-6a57-449b-ae93-c49b110a3747",
      "metadata": {
        "id": "8bdc9a62-6a57-449b-ae93-c49b110a3747"
      },
      "outputs": [],
      "source": [
        "L = 10\n",
        "N = 5000\n",
        "T = np.linspace(0.1, 5, 100)\n",
        "avgE = np.zeros(len(T), dtype='float64')\n",
        "avgM = np.zeros(len(T), dtype='float64')\n",
        "avgC = np.zeros(len(T), dtype='float64')\n",
        "\n",
        "for i in range(len(T)):\n",
        "    Etotal, Mtotal, Ctotal = Ising1D(L, N, T[i])\n",
        "    avgE[i] = Etotal/N\n",
        "    avgM[i] = Mtotal/N\n",
        "    avgC[i] = Ctotal/N"
      ]
    },
    {
      "cell_type": "code",
      "execution_count": 16,
      "id": "94e8ebcd-341e-4e69-9cb0-081436cf5346",
      "metadata": {
        "id": "94e8ebcd-341e-4e69-9cb0-081436cf5346",
        "outputId": "331b44a1-375c-48e5-dc9b-53acebc1cf65",
        "colab": {
          "base_uri": "https://localhost:8080/",
          "height": 405
        }
      },
      "outputs": [
        {
          "output_type": "display_data",
          "data": {
            "text/plain": [
              "<Figure size 500x400 with 1 Axes>"
            ],
            "image/png": "[encoded data removed]"
          },
          "metadata": {}
        }
      ],
      "source": [
        "#Average energy\n",
        "fig, ax = plt.subplots(figsize=(5, 4))\n",
        "\n",
        "ax.plot(T, avgE/np.abs(np.min(avgE)), marker='o', color='blue', ls='none')\n",
        "\n",
        "ax.set_ylim(-1.1, 0.1)\n",
        "ax.set_xlim(0.001, 5)\n",
        "\n",
        "ax.set_xlabel('$T$ (in Kelvin)', fontsize=16, labelpad=10)\n",
        "ax.set_ylabel(r\" $\\langle E \\rangle$\", fontsize=16, labelpad=10)\n",
        "\n",
        "ax.grid(ls=':')\n",
        "\n",
        "plt.show()"
      ]
    },
    {
      "cell_type": "code",
      "execution_count": 17,
      "id": "4b5ec684-28fb-4770-89dd-2e703ddd8b26",
      "metadata": {
        "id": "4b5ec684-28fb-4770-89dd-2e703ddd8b26",
        "outputId": "5d3cac81-ff44-448c-fb14-8e1431c9744f",
        "colab": {
          "base_uri": "https://localhost:8080/",
          "height": 405
        }
      },
      "outputs": [
        {
          "output_type": "display_data",
          "data": {
            "text/plain": [
              "<Figure size 500x400 with 1 Axes>"
            ],
            "image/png": "[encoded data removed]"
          },
          "metadata": {}
        }
      ],
      "source": [
        "#Net magnetization\n",
        "fig, ax = plt.subplots(figsize=(5, 4))\n",
        "\n",
        "ax.plot(T, avgM/avgM[0], marker='d', ls='-', ms=2, lw=1, color='darkgreen')\n",
        "\n",
        "# ax.set_ylim(-1.1, 0.1)\n",
        "ax.set_xlim(0.001, 5)\n",
        "\n",
        "ax.set_xlabel('$T$ (in Kelvin)', fontsize=16, labelpad=10)\n",
        "ax.set_ylabel(r\" $\\langle M \\rangle $\", fontsize=16, labelpad=10)\n",
        "\n",
        "ax.grid(ls=':')\n",
        "\n",
        "plt.show()"
      ]
    },
    {
      "cell_type": "code",
      "execution_count": 18,
      "id": "858e729e-a6c6-4b9f-8cb3-e4352edc9cf5",
      "metadata": {
        "id": "858e729e-a6c6-4b9f-8cb3-e4352edc9cf5",
        "outputId": "bb264c8e-7e3e-4075-8611-734db07a8c20",
        "colab": {
          "base_uri": "https://localhost:8080/",
          "height": 405
        }
      },
      "outputs": [
        {
          "output_type": "display_data",
          "data": {
            "text/plain": [
              "<Figure size 500x400 with 1 Axes>"
            ],
            "image/png": "[encoded data removed]"
          },
          "metadata": {}
        }
      ],
      "source": [
        "#Correlation function\n",
        "\n",
        "fig, ax = plt.subplots(figsize=(5, 4))\n",
        "\n",
        "ax.plot(T, avgC/avgC[0], marker='d', ls='-', ms=2, lw=1, color='darkorange')\n",
        "\n",
        "ax.set_ylim(-0.1, 1.1)\n",
        "ax.set_xlim(0.001, 5)\n",
        "\n",
        "ax.set_xlabel('$T$ (in Kelvin)', fontsize=16, labelpad=10)\n",
        "ax.set_ylabel(r\" $\\langle C \\rangle $\", fontsize=16, labelpad=10)\n",
        "\n",
        "ax.grid(ls=':')\n",
        "\n",
        "plt.show()"
      ]
    },
    {
      "cell_type": "code",
      "execution_count": 18,
      "id": "2f697822",
      "metadata": {
        "id": "2f697822"
      },
      "outputs": [],
      "source": []
    }
  ],
  "metadata": {
    "kernelspec": {
      "display_name": "Python 3 (ipykernel)",
      "language": "python",
      "name": "python3"
    },
    "language_info": {
      "codemirror_mode": {
        "name": "ipython",
        "version": 3
      },
      "file_extension": ".py",
      "mimetype": "text/x-python",
      "name": "python",
      "nbconvert_exporter": "python",
      "pygments_lexer": "ipython3",
      "version": "3.10.6"
    },
    "colab": {
      "provenance": [],
      "include_colab_link": true
    }
  },
  "nbformat": 4,
  "nbformat_minor": 5
}