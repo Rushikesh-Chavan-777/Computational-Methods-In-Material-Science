{
  "cells": [
    {
      "cell_type": "markdown",
      "metadata": {
        "id": "view-in-github",
        "colab_type": "text"
      },
      "source": [
        "<a href=\"https://colab.research.google.com/github/Rushikesh-Chavan-777/Computational-Methods-In-Material-Science/blob/main/Root_Finding_ComputationalMethods.ipynb\" target=\"_parent\"><img src=\"https://colab.research.google.com/assets/colab-badge.svg\" alt=\"Open In Colab\"/></a>"
      ]
    },
    {
      "cell_type": "code",
      "execution_count": null,
      "id": "d03bd60b",
      "metadata": {
        "id": "d03bd60b"
      },
      "outputs": [],
      "source": [
        "import numpy as np"
      ]
    },
    {
      "cell_type": "code",
      "execution_count": null,
      "id": "fdf45acf-81a8-4fda-b016-9afbe1fcc869",
      "metadata": {
        "id": "fdf45acf-81a8-4fda-b016-9afbe1fcc869"
      },
      "outputs": [],
      "source": [
        "%matplotlib inline\n",
        "import matplotlib.pyplot as plt"
      ]
    },
    {
      "cell_type": "code",
      "execution_count": null,
      "id": "876addac",
      "metadata": {
        "id": "876addac"
      },
      "outputs": [],
      "source": [
        "## Define a function (giving few trial examples of non-linear function for which we are interested in finding the roots)\n",
        "\n",
        "# def f(x):\n",
        "#    return x**3 - 15*x - 4.0\n",
        "\n",
        "def f(x):\n",
        "    return x**3 - 2.*x - 5.0"
      ]
    },
    {
      "cell_type": "code",
      "execution_count": null,
      "id": "dc355265-43b7-446e-943f-2d60efe83e35",
      "metadata": {
        "id": "dc355265-43b7-446e-943f-2d60efe83e35",
        "outputId": "731ec843-bb48-4144-d76f-fbf13811be3c"
      },
      "outputs": [
        {
          "data": {
            "image/png": "[encoded data removed]",
            "text/plain": [
              "<Figure size 640x480 with 1 Axes>"
            ]
          },
          "metadata": {},
          "output_type": "display_data"
        }
      ],
      "source": [
        "## Plotting the functions using matlpotlib\n",
        "plt.rc(\"font\", size=18)\n",
        "\n",
        "#data\n",
        "x = np.linspace(-10, 10, 100)\n",
        "\n",
        "fig, ax = plt.subplots()\n",
        "ax.plot(x, f(x))\n",
        "\n",
        "ax.set(xlabel='x', ylabel='f(x)')\n",
        "ax.set_ylim(-50, 50)\n",
        "ax.set_xticks(np.arange(-10, 10.01,2))\n",
        "\n",
        "## plotting one of the roots of f(x) = x**3 - 15*x -4.0\n",
        "#root=4.0\n",
        "#ax.axvline(x=root, ls=\":\", lw=1, color='r')\n",
        "\n",
        "ax.grid()\n",
        "\n",
        "plt.show()"
      ]
    },
    {
      "cell_type": "code",
      "execution_count": null,
      "id": "592e8aef",
      "metadata": {
        "id": "592e8aef"
      },
      "outputs": [],
      "source": [
        "## Define a function to implement Bisection method for root finding\n",
        "\n",
        "def bisect(f, x1, x2, tol=1e-3):\n",
        "    if f(x1)*f(x2) > 0:\n",
        "        print('Change the choice of interval')\n",
        "        return\n",
        "    #otherwise - search for root within 500 iterations\n",
        "    for i in range(500):\n",
        "        #mid-point\n",
        "        xm = (x1+x2)/2\n",
        "        if f(x1)*f(xm) < 0.0:\n",
        "            x2 = xm\n",
        "        else:\n",
        "            x1 = xm\n",
        "#        print('xm =',xm)\n",
        "#        print('f(xm) =', f(xm))\n",
        "        #set up tolerance criteria\n",
        "        if abs(f(xm)) <= tol:\n",
        "#            print('found root')\n",
        "            return xm\n",
        "            break\n",
        "\n",
        "    print('cannot find the root')\n",
        "    return xm"
      ]
    },
    {
      "cell_type": "code",
      "execution_count": null,
      "id": "0e84c886-72e8-46b4-aa44-24059d18e7a3",
      "metadata": {
        "id": "0e84c886-72e8-46b4-aa44-24059d18e7a3",
        "outputId": "7af0b079-f689-4220-f56e-844a90247683"
      },
      "outputs": [
        {
          "name": "stdout",
          "output_type": "stream",
          "text": [
            "root = 4.0000001192092896\n",
            "func val =, 3.933906725706038e-06\n"
          ]
        }
      ],
      "source": [
        "##Finding the root of f(x) defined in th cell above\n",
        "##Choose bracketing region by giving you choice of values for x1 and x2\n",
        "x1 = 1\n",
        "x2 = 6\n",
        "tol = 1e-5 #you can always choose more stringent tolerance value\n",
        "\n",
        "## Uncomment below line to try time library. It can help you to check time of execution for your code\n",
        "#import time\n",
        "#tstart = time.time()\n",
        "\n",
        "root = bisect(f, x1, x2, tol)\n",
        "print('root =', root)\n",
        "print('func val =,', f(root))\n",
        "\n",
        "#tstop = time.time()\n",
        "#t = tstop-tstart\n",
        "#print('total time taken =', t)"
      ]
    },
    {
      "cell_type": "code",
      "execution_count": null,
      "id": "55bd9a30-fdf1-49e5-be31-cd2642da2ced",
      "metadata": {
        "id": "55bd9a30-fdf1-49e5-be31-cd2642da2ced",
        "outputId": "a24268df-8ac7-4e61-a5b3-6a1a10c0ed81"
      },
      "outputs": [
        {
          "name": "stdout",
          "output_type": "stream",
          "text": [
            "root = -0.2679492235183716\n",
            "func val =, 4.5961284023121607e-07\n"
          ]
        }
      ],
      "source": [
        "##Did you find all the roots of the above function?\n",
        "##Vary the bracketing range and try finding other roots.\n",
        "x1 = -2\n",
        "x2 = 2\n",
        "tol = 1e-6\n",
        "\n",
        "root = bisect(f, x1, x2, tol)\n",
        "print('root =', root)\n",
        "print('func val =,', f(root))"
      ]
    },
    {
      "cell_type": "markdown",
      "id": "89a5e5c0-b999-4aa0-bcc4-86dd2d3e2ae0",
      "metadata": {
        "id": "89a5e5c0-b999-4aa0-bcc4-86dd2d3e2ae0"
      },
      "source": [
        "#### Question: Can you map the x-range between [-10, 10] and find out how does the choice of your bracketing interval affect the root that you find?"
      ]
    },
    {
      "cell_type": "code",
      "execution_count": null,
      "id": "8abf878a",
      "metadata": {
        "id": "8abf878a"
      },
      "outputs": [],
      "source": [
        "##Newton's method (Single-point method)"
      ]
    },
    {
      "cell_type": "code",
      "execution_count": null,
      "id": "79b0a0b7",
      "metadata": {
        "id": "79b0a0b7"
      },
      "outputs": [],
      "source": [
        "# define function and its derivative\n",
        "def f(x):\n",
        "    return x**3 - 15*x - 4\n",
        "\n",
        "def df(x):\n",
        "    return 3*x**2 - 15"
      ]
    },
    {
      "cell_type": "code",
      "execution_count": null,
      "id": "b0932904",
      "metadata": {
        "id": "b0932904"
      },
      "outputs": [],
      "source": [
        "def newton(f, df, x1, tol):\n",
        "    #manually-hard-code to run for specific iterations\n",
        "    for i in range(500):\n",
        "        x2 = x1 - f(x1)/df(x1)\n",
        "        if abs(f(x2)) < tol:\n",
        "            print('found root')\n",
        "            return x2\n",
        "            break\n",
        "        x1 = x2\n",
        "\n",
        "    print('root not found')\n"
      ]
    },
    {
      "cell_type": "code",
      "execution_count": null,
      "id": "a167a79c",
      "metadata": {
        "id": "a167a79c",
        "outputId": "43ee0f43-0d62-42a1-c8f5-59d5d397c4c0"
      },
      "outputs": [
        {
          "name": "stdout",
          "output_type": "stream",
          "text": [
            "found root\n",
            "root = 4.000000000036533\n",
            "func val =, 1.2056062814735924e-09\n"
          ]
        }
      ],
      "source": [
        "##choose a starting value of x\n",
        "x1 = 6\n",
        "\n",
        "root = newton(f, df, x1, tol=1e-6)\n",
        "\n",
        "print('root =', root)\n",
        "print('func val =,', f(root))"
      ]
    },
    {
      "cell_type": "markdown",
      "id": "429b99fb-3f2a-4e73-84a7-2d356e352da5",
      "metadata": {
        "id": "429b99fb-3f2a-4e73-84a7-2d356e352da5"
      },
      "source": [
        "#### Question: Do you observe that the Newton's method converges faster than Bisection method? Can you tweak the above codes to check how many iterations it took to solve for f(x) using Newtons Method vs. Bisection Method?\n"
      ]
    },
    {
      "cell_type": "code",
      "execution_count": null,
      "id": "fdbe3e23",
      "metadata": {
        "id": "fdbe3e23"
      },
      "outputs": [],
      "source": [
        "#https://pythonnumericalmethods.berkeley.edu/notebooks/chapter19.04-Newton-Raphson-Method.html\n",
        "def my_newton(f, df, x1, tol):\n",
        "    # using the Newton Raphson method\n",
        "    # recursive implementation\n",
        "    if abs(f(x1)) < tol:\n",
        "        return x1\n",
        "    else:\n",
        "        return my_newton(f, df, x1 - f(x1)/df(x1), tol)"
      ]
    },
    {
      "cell_type": "code",
      "execution_count": null,
      "id": "b820904c-0c7d-4cbe-b9ac-75f727026338",
      "metadata": {
        "id": "b820904c-0c7d-4cbe-b9ac-75f727026338",
        "outputId": "c04a030e-b03f-400e-a74e-ed255d122b6c"
      },
      "outputs": [
        {
          "name": "stdout",
          "output_type": "stream",
          "text": [
            "root = 4.000000000036533\n",
            "func val =, 1.2056062814735924e-09\n"
          ]
        }
      ],
      "source": [
        "x1 = 6\n",
        "\n",
        "root = my_newton(f, df, x1, tol=1e-6)\n",
        "\n",
        "print('root =', root)\n",
        "print('func val =,', f(root))\n",
        "\n",
        "##Question: Does both the functions give same answer?"
      ]
    },
    {
      "cell_type": "code",
      "execution_count": null,
      "id": "0a299ede-01d1-401f-923a-e96f1e7db3c5",
      "metadata": {
        "id": "0a299ede-01d1-401f-923a-e96f1e7db3c5"
      },
      "outputs": [],
      "source": [
        "# define function\n",
        "def f(x):\n",
        "    return x**(1/3)\n",
        "\n",
        "def df(x):\n",
        "    return (1/3)*x**(-2/3)\n",
        "\n",
        "## It is always a good practice to plot the function before solving it!"
      ]
    },
    {
      "cell_type": "code",
      "execution_count": null,
      "id": "d39151f9-8586-425e-98e5-644ddc37b12f",
      "metadata": {
        "id": "d39151f9-8586-425e-98e5-644ddc37b12f",
        "outputId": "84e5030a-5e79-422f-b3fc-5daf4855955e"
      },
      "outputs": [
        {
          "name": "stdout",
          "output_type": "stream",
          "text": [
            "root not found\n"
          ]
        }
      ],
      "source": [
        "x1 = 3\n",
        "tol = 1e-5\n",
        "\n",
        "root = newton(f, df, x1, tol)"
      ]
    },
    {
      "cell_type": "code",
      "execution_count": null,
      "id": "dcc1aa52",
      "metadata": {
        "id": "dcc1aa52",
        "outputId": "387424b2-d955-4378-a1c1-4c2fd167af06"
      },
      "outputs": [
        {
          "data": {
            "image/png": "[encoded data removed]",
            "text/plain": [
              "<Figure size 640x480 with 1 Axes>"
            ]
          },
          "metadata": {},
          "output_type": "display_data"
        }
      ],
      "source": [
        "plt.rc(\"font\", size=18)\n",
        "\n",
        "#data\n",
        "x = np.linspace(1e-10, 100, 1000)\n",
        "#x = np.linspace(-10, -1, 100)\n",
        "\n",
        "fig, ax = plt.subplots()\n",
        "ax.plot(x, x**(1/3))\n",
        "\n",
        "ax.set(xlabel='x', ylabel='f(x)')\n",
        "\n",
        "ax.grid()\n",
        "plt.show()"
      ]
    },
    {
      "cell_type": "code",
      "execution_count": null,
      "id": "e86377d8",
      "metadata": {
        "id": "e86377d8"
      },
      "outputs": [],
      "source": [
        "# Secant method (https://en.wikipedia.org/wiki/Secant_method) is Two-point method"
      ]
    },
    {
      "cell_type": "code",
      "execution_count": null,
      "id": "039ce1f2-07be-40a4-a41c-93c968bd6144",
      "metadata": {
        "id": "039ce1f2-07be-40a4-a41c-93c968bd6144"
      },
      "outputs": [],
      "source": [
        "def secant(f,a,b,N):\n",
        "    '''Approximate solution of f(x)=0 on interval [a,b] by the secant method.\n",
        "\n",
        "    Parameters\n",
        "    ----------\n",
        "    f : function\n",
        "        The function for which we are trying to approximate a solution f(x)=0.\n",
        "    a,b : numbers\n",
        "        The interval in which to search for a solution. The function returns\n",
        "        None if f(a)*f(b) >= 0 since a solution is not guaranteed.\n",
        "    N : (positive) integer\n",
        "        The number of iterations to implement.\n",
        "\n",
        "    Returns\n",
        "    -------\n",
        "    m_N : number\n",
        "        The x intercept of the secant line on the the Nth interval\n",
        "            m_n = a_n - f(a_n)*(b_n - a_n)/(f(b_n) - f(a_n))\n",
        "        The initial interval [a_0,b_0] is given by [a,b]. If f(m_n) == 0\n",
        "        for some intercept m_n then the function returns this solution.\n",
        "        If all signs of values f(a_n), f(b_n) and f(m_n) are the same at any\n",
        "        iterations, the secant method fails and return None.\n",
        "\n",
        "    Examples\n",
        "    --------\n",
        "    >>> f = lambda x: x**2 - x - 1\n",
        "    >>> secant(f,1,2,5)\n",
        "    1.6180257510729614\n",
        "    '''\n",
        "    if f(a)*f(b) >= 0:\n",
        "        print(\"Secant method fails.\")\n",
        "        return None\n",
        "    a_n = a\n",
        "    b_n = b\n",
        "    for n in range(1,N+1):\n",
        "        m_n = a_n - f(a_n)*(b_n - a_n)/(f(b_n) - f(a_n))\n",
        "        f_m_n = f(m_n)\n",
        "        if f(a_n)*f_m_n < 0:\n",
        "            a_n = a_n\n",
        "            b_n = m_n\n",
        "        elif f(b_n)*f_m_n < 0:\n",
        "            a_n = m_n\n",
        "            b_n = b_n\n",
        "        elif f_m_n == 0:\n",
        "            print(\"Found exact solution.\")\n",
        "            return m_n\n",
        "        else:\n",
        "            print(\"Secant method fails.\")\n",
        "            return None\n",
        "    return a_n - f(a_n)*(b_n - a_n)/(f(b_n) - f(a_n))"
      ]
    },
    {
      "cell_type": "code",
      "execution_count": null,
      "id": "cf787f66",
      "metadata": {
        "id": "cf787f66"
      },
      "outputs": [],
      "source": [
        "# define function\n",
        "def f(x):\n",
        "    return x**3 - 2.*x - 5.0\n",
        "\n",
        "def df(x):\n",
        "    return 3*x**2 - 2."
      ]
    },
    {
      "cell_type": "code",
      "execution_count": null,
      "id": "840546c6",
      "metadata": {
        "id": "840546c6"
      },
      "outputs": [],
      "source": [
        "## choose the bracketing region (always helpful to plot the function)\n",
        "\n",
        "x1 = 0\n",
        "x2 = 5\n",
        "\n",
        "tol = 1e-3\n",
        "itr = 100"
      ]
    },
    {
      "cell_type": "code",
      "execution_count": null,
      "id": "6f29189f-23dc-457c-9bb9-48aa46cd102c",
      "metadata": {
        "id": "6f29189f-23dc-457c-9bb9-48aa46cd102c",
        "outputId": "5efec9ad-f9a0-4b08-b410-31d5ceb60ccf"
      },
      "outputs": [
        {
          "name": "stdout",
          "output_type": "stream",
          "text": [
            "root = 2.0945514815423216\n",
            "func val =, -5.5067062021407764e-14\n"
          ]
        }
      ],
      "source": [
        "root = secant(f, x1, x2, itr)\n",
        "\n",
        "print('root =', root)\n",
        "print('func val =,', f(root))"
      ]
    },
    {
      "cell_type": "code",
      "execution_count": null,
      "id": "9303e535",
      "metadata": {
        "id": "9303e535",
        "outputId": "741bba89-7ee6-45c5-9fe5-aa50018ca74d"
      },
      "outputs": [
        {
          "name": "stdout",
          "output_type": "stream",
          "text": [
            "root = 2.094573974609375\n",
            "func val =, 0.00025105814629000633\n"
          ]
        }
      ],
      "source": [
        "rootb = bisect(f, x1, x2, tol)\n",
        "\n",
        "print('root =', rootb)\n",
        "print('func val =,', f(rootb))"
      ]
    },
    {
      "cell_type": "code",
      "execution_count": null,
      "id": "ede67402",
      "metadata": {
        "id": "ede67402",
        "outputId": "411a0cbf-a987-43e6-9fc7-295de9651589"
      },
      "outputs": [
        {
          "name": "stdout",
          "output_type": "stream",
          "text": [
            "found root\n",
            "root = 2.0945835767773096\n",
            "func val =, 0.00035823543943003244\n"
          ]
        }
      ],
      "source": [
        "rootn = newton(f, df, x1, tol)\n",
        "\n",
        "print('root =', rootn)\n",
        "print('func val =,', f(rootn))"
      ]
    },
    {
      "cell_type": "code",
      "execution_count": null,
      "id": "0fa21220",
      "metadata": {
        "id": "0fa21220",
        "outputId": "6743ea47-810d-439d-8d20-59cb226b1aba"
      },
      "outputs": [
        {
          "data": {
            "text/plain": [
              "-5.5067062021407764e-14"
            ]
          },
          "execution_count": 84,
          "metadata": {},
          "output_type": "execute_result"
        }
      ],
      "source": [
        "f(2.0945514815423216)"
      ]
    },
    {
      "cell_type": "code",
      "execution_count": null,
      "id": "5324d48f",
      "metadata": {
        "id": "5324d48f",
        "outputId": "f8befbb1-b56d-43ab-c2db-654fb92b1c04"
      },
      "outputs": [
        {
          "name": "stdout",
          "output_type": "stream",
          "text": [
            "0.000095485836\n"
          ]
        }
      ],
      "source": [
        "a = (2.0945514815423216 - 2.0943514815423216)/2.0945514815423216\n",
        "print(\"%.12f\" % a)"
      ]
    },
    {
      "cell_type": "code",
      "execution_count": null,
      "id": "53106f44",
      "metadata": {
        "id": "53106f44"
      },
      "outputs": [],
      "source": [
        "##plot\n",
        "# plt.rc(\"font\", size=18)\n",
        "\n",
        "# #data\n",
        "# x = np.linspace(-10, 10, 100)\n",
        "\n",
        "# fig, ax = plt.subplots()\n",
        "# ax.plot(x, f(x))\n",
        "\n",
        "# ax.set(xlabel='x', ylabel='f(x)')\n",
        "# ax.set_ylim(-50, 50)\n",
        "# #ax.set_xticks(np.arange(-10, 10.01,2))\n",
        "\n",
        "# ax.axvline(x=2.094, ls=\":\", lw=1, color='r')\n",
        "\n",
        "# ax.grid()\n",
        "\n",
        "# plt.show()"
      ]
    },
    {
      "cell_type": "markdown",
      "id": "8c05f33c-c29d-4bec-8ba8-003b15a7d66b",
      "metadata": {
        "id": "8c05f33c-c29d-4bec-8ba8-003b15a7d66b"
      },
      "source": [
        "#### Question: Are any of the above methods find the solution for the function f(x) =  x**(1/3)? Can you tweak above functions to solve for f(x)?"
      ]
    },
    {
      "cell_type": "code",
      "execution_count": null,
      "id": "5ea4198c-5c2e-4012-99a3-4238a6ac0e94",
      "metadata": {
        "id": "5ea4198c-5c2e-4012-99a3-4238a6ac0e94"
      },
      "outputs": [],
      "source": [
        "# define function\n",
        "def f(x):\n",
        "    return x**3 + 2.*x**2 -x +5.0\n",
        "\n",
        "def df(x):\n",
        "    return 3*x**2 + 4*x -1.0"
      ]
    },
    {
      "cell_type": "code",
      "execution_count": null,
      "id": "40bae5a0-c2ed-4577-a90d-78268e7a44b4",
      "metadata": {
        "id": "40bae5a0-c2ed-4577-a90d-78268e7a44b4",
        "outputId": "1de5a4cb-c22b-49bf-c484-3f4332fe86bd"
      },
      "outputs": [
        {
          "data": {
            "image/png": "[encoded data removed]",
            "text/plain": [
              "<Figure size 640x480 with 1 Axes>"
            ]
          },
          "metadata": {},
          "output_type": "display_data"
        }
      ],
      "source": [
        "## Plotting the functions using matlpotlib\n",
        "plt.rc(\"font\", size=18)\n",
        "\n",
        "#data\n",
        "x = np.linspace(-10, 10, 100)\n",
        "\n",
        "fig, ax = plt.subplots()\n",
        "ax.plot(x, f(x))\n",
        "\n",
        "ax.set(xlabel='x', ylabel='f(x)')\n",
        "ax.set_ylim(-50, 50)\n",
        "ax.set_xticks(np.arange(-10, 10.01,2))\n",
        "\n",
        "## plotting one of the roots of f(x) = x**3 - 15*x -4.0\n",
        "#root=4.0\n",
        "#ax.axvline(x=root, ls=\":\", lw=1, color='r')\n",
        "\n",
        "ax.grid()\n",
        "\n",
        "plt.show()"
      ]
    },
    {
      "cell_type": "code",
      "execution_count": null,
      "id": "57a716e9-1aa0-456f-bab3-ddf8a383e715",
      "metadata": {
        "id": "57a716e9-1aa0-456f-bab3-ddf8a383e715"
      },
      "outputs": [],
      "source": [
        "##choose a starting value\n",
        "\n",
        "x1 = -5\n",
        "tol = 1e-3"
      ]
    },
    {
      "cell_type": "code",
      "execution_count": null,
      "id": "1abe431f-7546-4546-a72d-1a47b8f8342b",
      "metadata": {
        "id": "1abe431f-7546-4546-a72d-1a47b8f8342b",
        "outputId": "4c54d7a7-e0d5-4098-8343-be580cef4ece"
      },
      "outputs": [
        {
          "data": {
            "text/plain": [
              "int"
            ]
          },
          "execution_count": 106,
          "metadata": {},
          "output_type": "execute_result"
        }
      ],
      "source": [
        "type(x1)"
      ]
    },
    {
      "cell_type": "code",
      "execution_count": null,
      "id": "98c1b010-d41e-498f-8039-30e3e23c36e5",
      "metadata": {
        "id": "98c1b010-d41e-498f-8039-30e3e23c36e5",
        "outputId": "08f50171-69af-4d79-8708-ddf2a1677062"
      },
      "outputs": [
        {
          "name": "stdout",
          "output_type": "stream",
          "text": [
            "found root\n",
            "root = -2.925851606864172\n",
            "func val =, -7.188365271915131e-07\n"
          ]
        }
      ],
      "source": [
        "rootn = newton(f, df, x1, tol)\n",
        "\n",
        "print('root =', rootn)\n",
        "print('func val =,', f(rootn))"
      ]
    },
    {
      "cell_type": "markdown",
      "id": "a55d7135-986b-480b-a484-839fa3abf2b5",
      "metadata": {
        "id": "a55d7135-986b-480b-a484-839fa3abf2b5"
      },
      "source": [
        "#### Question: f(x) = x**3 + 2.*x**2 -x +5.0 is a function degree three? If x = -2.92585 is one of the root, what are the other roots of f(x)?"
      ]
    },
    {
      "cell_type": "markdown",
      "id": "29dda7a2-09a0-4c5a-8187-9b245d55fb3f",
      "metadata": {
        "id": "29dda7a2-09a0-4c5a-8187-9b245d55fb3f"
      },
      "source": [
        "#### Question: Can you write a function to implement fixed point method?"
      ]
    },
    {
      "cell_type": "code",
      "execution_count": null,
      "id": "5ee2691f-cb92-4252-a1b1-f34792645ac7",
      "metadata": {
        "id": "5ee2691f-cb92-4252-a1b1-f34792645ac7"
      },
      "outputs": [],
      "source": []
    }
  ],
  "metadata": {
    "kernelspec": {
      "display_name": "Python 3 (ipykernel)",
      "language": "python",
      "name": "python3"
    },
    "language_info": {
      "codemirror_mode": {
        "name": "ipython",
        "version": 3
      },
      "file_extension": ".py",
      "mimetype": "text/x-python",
      "name": "python",
      "nbconvert_exporter": "python",
      "pygments_lexer": "ipython3",
      "version": "3.11.9"
    },
    "colab": {
      "provenance": [],
      "include_colab_link": true
    }
  },
  "nbformat": 4,
  "nbformat_minor": 5
}