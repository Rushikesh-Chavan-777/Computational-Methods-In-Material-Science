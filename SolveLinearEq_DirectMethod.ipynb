{
  "cells": [
    {
      "cell_type": "markdown",
      "metadata": {
        "id": "view-in-github",
        "colab_type": "text"
      },
      "source": [
        "<a href=\"https://colab.research.google.com/github/Rushikesh-Chavan-777/Computational-Methods-In-Material-Science/blob/main/SolveLinearEq_DirectMethod.ipynb\" target=\"_parent\"><img src=\"https://colab.research.google.com/assets/colab-badge.svg\" alt=\"Open In Colab\"/></a>"
      ]
    },
    {
      "cell_type": "markdown",
      "id": "7c7164e5-99b5-4dcd-b195-bbdbf537344c",
      "metadata": {
        "id": "7c7164e5-99b5-4dcd-b195-bbdbf537344c"
      },
      "source": [
        "## <font color=\"blue\"> Practice Notebook: Solve for the Set of Linear Equations using Direct Methods</font>"
      ]
    },
    {
      "cell_type": "code",
      "execution_count": null,
      "id": "1a1f3d6f",
      "metadata": {
        "id": "1a1f3d6f"
      },
      "outputs": [],
      "source": [
        "import numpy as np"
      ]
    },
    {
      "cell_type": "code",
      "execution_count": null,
      "id": "fc4fcc1e-6c05-409d-8963-5302b2875e96",
      "metadata": {
        "id": "fc4fcc1e-6c05-409d-8963-5302b2875e96"
      },
      "outputs": [],
      "source": [
        "### Simpler functions (Row operations)"
      ]
    },
    {
      "cell_type": "code",
      "execution_count": null,
      "id": "f4b0e33f",
      "metadata": {
        "id": "f4b0e33f"
      },
      "outputs": [],
      "source": [
        "def add_row(A,m,i,j):\n",
        "\n",
        "    '''\n",
        "    m: multiplier\n",
        "    Add m times row j to row i in a matrix A\n",
        "    '''\n",
        "    # n stores the the size of a matrix A of size n x n\n",
        "    n = A.shape[0] # row dimension of A\n",
        "    E = np.eye(n) # nxn identity matrix\n",
        "    if i==j:\n",
        "        E[i,j] = m + 1\n",
        "    else:\n",
        "        E[i,j] = m\n",
        "    return E @ A"
      ]
    },
    {
      "cell_type": "code",
      "execution_count": null,
      "id": "a604ecee",
      "metadata": {
        "id": "a604ecee"
      },
      "outputs": [],
      "source": [
        "def scale_row(A,s,i):\n",
        "    '''\n",
        "    A: a matrix\n",
        "    s: scale factor\n",
        "    Multiply row i of A by scale factor s\n",
        "    '''\n",
        "    n = A.shape[0]\n",
        "    E = np.eye(n)\n",
        "# [i,i] is the index of diagonal element of row i that is scaled by s\n",
        "    E[i,i] = s\n",
        "    return E @ A"
      ]
    },
    {
      "cell_type": "code",
      "execution_count": null,
      "id": "85edc1d1",
      "metadata": {
        "id": "85edc1d1"
      },
      "outputs": [],
      "source": [
        "def swap_rows(A,i,j):\n",
        "    '''\n",
        "    Interchange rows i and j of a matrix A\n",
        "    Note the identity matrix E is always a square matrix\n",
        "    Swap rows of identity matrix E to interchange rows of A\n",
        "    Returns E @ A\n",
        "    '''\n",
        "    n = A.shape[0]\n",
        "    E = np.eye(n)\n",
        "    E[i,i] = 0\n",
        "    E[j,j] = 0\n",
        "    E[i,j] = 1\n",
        "    E[j,i] = 1\n",
        "    return E @ A"
      ]
    },
    {
      "cell_type": "markdown",
      "id": "e09f2f71-76f9-43fc-af2f-378e9e2dbb2f",
      "metadata": {
        "id": "e09f2f71-76f9-43fc-af2f-378e9e2dbb2f"
      },
      "source": [
        "#### <font color=\"blue\">Steps (or algorithm) for Gaussian elimination with pivoting</font>\n",
        "\n",
        "#### #Solving  using Gaussian elimination with partial pivoting\n",
        "\n",
        "Input: A: n x n matrix, b: vector of n dimensions\n",
        "\n",
        "Output: x: vector of n dimensions\n",
        "\n",
        "Afull = stack(A,b) # A is now n x n+1, as we append b as a new column\n",
        "\n",
        "#### #Start the loop\n",
        "\n",
        "for k=1:n do # traverse through columns of A\n",
        "\n",
        "#### #Find pivot (largest element of active column)\n",
        "\n",
        "pivot = Afull[k][k] #Intitialize Afull[1][1] as starting value\n",
        "\n",
        "pivot_row = k\n",
        "\n",
        "for i=k+1:n do\n",
        "\n",
        "if Afull[i][k] > pivot:\n",
        "\n",
        "pivot = Afull[i][k]\n",
        "\n",
        "pivot_row = k\n",
        "#### #Swap k-th row with row with the pivot element\n",
        "\n",
        "swap(Afull,k,pivot_row) # Afull[k][k] is now the pivot\n",
        "\n",
        "#### #Update bottom-right part of matrix\n",
        "\n",
        "for i=k+1:n:\n",
        "\n",
        "m = A[i][k]/A[k][k]\n",
        "\n",
        "for j=1:n+1 do:\n",
        "\n",
        "Afull[i][j] = Afull[i][j] - m*Afull[k][j]\n",
        "#### #After this, A should be in upper diagonal form.\n",
        "\n",
        "#### #Solving for x:\n",
        "\n",
        "x[n] = Afull[n][n+1]/Afull[n][n]\n",
        "\n",
        "for i=n-1:1 do:\n",
        "\n",
        "sum = 0\n",
        "\n",
        "for j=i+1:n do:\n",
        "\n",
        "sum = sum + Afull[i][j]*x[j]\n",
        "\n",
        "x[i] = (Afull[i][n+1] - sum ) / Afull[i][i]\n",
        "\n",
        "#### # x now contains the solution of the system"
      ]
    },
    {
      "cell_type": "code",
      "execution_count": null,
      "id": "ee098af1-2b91-4189-84cf-f8cc9a30777e",
      "metadata": {
        "id": "ee098af1-2b91-4189-84cf-f8cc9a30777e",
        "outputId": "89c88f8b-30be-43b3-f8fa-7e742f10fc24"
      },
      "outputs": [
        {
          "name": "stdout",
          "output_type": "stream",
          "text": [
            "A= [[ 4. -2.  1.]\n",
            " [-3. -1.  4.]\n",
            " [ 1. -1.  3.]]\n",
            "B= [[15.]\n",
            " [ 8.]\n",
            " [13.]]\n",
            "n= 3\n",
            "-0.75\n",
            "A[row] [ 0.   -2.5   4.75]\n",
            "B[row] [19.25]\n",
            "0.25\n",
            "A[row] [ 0.   -0.5   2.75]\n",
            "B[row] [9.25]\n",
            "0.2\n",
            "A[row] [0.  1.8]\n",
            "B[row] [5.4]\n"
          ]
        }
      ],
      "source": [
        "### Example\n",
        "A = np.array([[4.0, -2.0, 1.0], [-3.0, -1.0, 4.0], [1.0, -1.0, 3.0]])\n",
        "print('A=',A)\n",
        "B = np.array([[15.0], [8.0], [13.0]])\n",
        "print('B=',B)\n",
        "\n",
        "n = len(A)\n",
        "print('n=',n)\n",
        "\n",
        "#Pivoting --> swap --> eliminaton\n",
        "\n",
        "for k in range(n-1):\n",
        "    maxindex = abs(A[k:,k]).argmax() + k\n",
        "#    print(maxindex)\n",
        "    #swap\n",
        "    if maxindex != k:\n",
        "        A[[k, maxindex]] = A[[maxindex,k]]\n",
        "        B[[k, maxindex]] = B[[maxindex,k]]\n",
        "#    print(A)\n",
        "#    print(B)\n",
        "    #Eliminate\n",
        "    for row in range(k+1, n):\n",
        "        multiplier = A[row,k]/A[k,k]\n",
        "        print(multiplier)\n",
        "        A[row, k:] = A[row,k:] - multiplier*A[k,k:]\n",
        "        print('A[row]', A[row,k:])\n",
        "        B[row] = B[row] - multiplier*B[k]\n",
        "        print('B[row]', B[row])\n",
        "#    print(A)\n",
        "#    print(B)"
      ]
    },
    {
      "cell_type": "code",
      "execution_count": null,
      "id": "debf41d2-3637-4f9e-a1da-5840678444ea",
      "metadata": {
        "id": "debf41d2-3637-4f9e-a1da-5840678444ea",
        "outputId": "0408f482-7806-4a4c-e90d-bad62185b647"
      },
      "outputs": [
        {
          "name": "stdout",
          "output_type": "stream",
          "text": [
            "[[ 4.   -2.    1.  ]\n",
            " [ 0.   -2.5   4.75]\n",
            " [ 0.    0.    1.8 ]]\n",
            "[[15.  ]\n",
            " [19.25]\n",
            " [ 5.4 ]]\n"
          ]
        }
      ],
      "source": [
        "print(A)\n",
        "print(B)"
      ]
    },
    {
      "cell_type": "code",
      "execution_count": null,
      "id": "10075931-86bb-49b2-b3fb-1a9ad7fb2026",
      "metadata": {
        "id": "10075931-86bb-49b2-b3fb-1a9ad7fb2026",
        "outputId": "96855b19-88cd-4e86-b26c-78de33739366"
      },
      "outputs": [
        {
          "data": {
            "text/plain": [
              "array([0., 0., 0.])"
            ]
          },
          "execution_count": 12,
          "metadata": {},
          "output_type": "execute_result"
        }
      ],
      "source": [
        "x = np.zeros(n)\n",
        "x"
      ]
    },
    {
      "cell_type": "code",
      "execution_count": null,
      "id": "29aa1523-d020-43a8-a698-0fbeefbb2767",
      "metadata": {
        "id": "29aa1523-d020-43a8-a698-0fbeefbb2767"
      },
      "outputs": [],
      "source": [
        "#Backsubstitution:\n",
        "\n",
        "#for k in range(n-1, -1, -1):\n",
        "#    print(k)\n",
        "#    print(A[k, k+1:n])\n",
        "#    print(x[k+1:n])\n",
        "#    x[k] = (B[k] - np.dot(A[k, k+1:n], x[k+1:n]))/A[k,k]\n",
        "#    print(x[k])"
      ]
    },
    {
      "cell_type": "code",
      "execution_count": null,
      "id": "63ece5c9-914d-48f5-9ae4-f1f2ebf3d370",
      "metadata": {
        "id": "63ece5c9-914d-48f5-9ae4-f1f2ebf3d370"
      },
      "outputs": [],
      "source": [
        "#print(f'roots={x}')"
      ]
    },
    {
      "cell_type": "markdown",
      "id": "2f6619d8",
      "metadata": {
        "id": "2f6619d8"
      },
      "source": [
        "### Finding inverse of a matrix using Gauss-Jordan method"
      ]
    },
    {
      "cell_type": "code",
      "execution_count": null,
      "id": "94cc9d44",
      "metadata": {
        "id": "94cc9d44",
        "outputId": "f81d6b05-f36e-4a3d-e5ac-53e80ce94616"
      },
      "outputs": [
        {
          "name": "stdout",
          "output_type": "stream",
          "text": [
            "[[ 5  4  2]\n",
            " [-1  2  1]\n",
            " [ 1  1  1]]\n"
          ]
        }
      ],
      "source": [
        "Y = np.array([[5,4,2],[-1,2,1],[1,1,1]])\n",
        "print(Y)"
      ]
    },
    {
      "cell_type": "code",
      "execution_count": null,
      "id": "031c198a",
      "metadata": {
        "id": "031c198a"
      },
      "outputs": [],
      "source": [
        "#np.round?"
      ]
    },
    {
      "cell_type": "code",
      "execution_count": null,
      "id": "424272f5",
      "metadata": {
        "id": "424272f5",
        "outputId": "e37fdd64-2831-4977-dbbf-c1057c1e4d6a"
      },
      "outputs": [
        {
          "name": "stdout",
          "output_type": "stream",
          "text": [
            "[[ 5.  4.  2.  1.  0.  0.]\n",
            " [-1.  2.  1.  0.  1.  0.]\n",
            " [ 1.  1.  1.  0.  0.  1.]]\n"
          ]
        }
      ],
      "source": [
        "#Augmented matrix A formed by horizontally stacking Y with an identity matrix of same shape\n",
        "A=np.hstack([Y,np.eye(Y.shape[0])])\n",
        "print(A)"
      ]
    },
    {
      "cell_type": "code",
      "execution_count": null,
      "id": "b9107b8d",
      "metadata": {
        "id": "b9107b8d",
        "outputId": "4982957a-2acc-4409-8d03-e886c56c04ed"
      },
      "outputs": [
        {
          "name": "stdout",
          "output_type": "stream",
          "text": [
            "[[ 1.  1.  1.  0.  0.  1.]\n",
            " [-1.  2.  1.  0.  1.  0.]\n",
            " [ 5.  4.  2.  1.  0.  0.]]\n"
          ]
        }
      ],
      "source": [
        "A1 = swap_rows(A,0,2)\n",
        "print(A1)"
      ]
    },
    {
      "cell_type": "code",
      "execution_count": null,
      "id": "88d939d8",
      "metadata": {
        "id": "88d939d8",
        "outputId": "e7333196-1daa-4674-fc49-8020a8f776f0"
      },
      "outputs": [
        {
          "name": "stdout",
          "output_type": "stream",
          "text": [
            "[[1. 1. 1. 0. 0. 1.]\n",
            " [0. 3. 2. 0. 1. 1.]\n",
            " [5. 4. 2. 1. 0. 0.]]\n"
          ]
        }
      ],
      "source": [
        "A2 = add_row(A1,1,1,0)\n",
        "print(A2)"
      ]
    },
    {
      "cell_type": "code",
      "execution_count": null,
      "id": "b56f901e",
      "metadata": {
        "id": "b56f901e",
        "outputId": "0b9e819c-3c05-4522-83eb-f4706e9ca57c"
      },
      "outputs": [
        {
          "name": "stdout",
          "output_type": "stream",
          "text": [
            "[[ 1.  1.  1.  0.  0.  1.]\n",
            " [ 0.  3.  2.  0.  1.  1.]\n",
            " [ 0. -1. -3.  1.  0. -5.]]\n"
          ]
        }
      ],
      "source": [
        "A3 = add_row(A2,-5,2,0)\n",
        "print(A3)"
      ]
    },
    {
      "cell_type": "code",
      "execution_count": null,
      "id": "8ebf4629",
      "metadata": {
        "id": "8ebf4629",
        "outputId": "8ed1afcc-cccc-4eaf-b24c-5cda6b5edf0f"
      },
      "outputs": [
        {
          "name": "stdout",
          "output_type": "stream",
          "text": [
            "[[ 1.  1.  1.  0.  0.  1.]\n",
            " [ 0. -1. -3.  1.  0. -5.]\n",
            " [ 0.  3.  2.  0.  1.  1.]]\n"
          ]
        }
      ],
      "source": [
        "A4 = swap_rows(A3,1,2)\n",
        "print(A4)"
      ]
    },
    {
      "cell_type": "code",
      "execution_count": null,
      "id": "8fe4f1fb",
      "metadata": {
        "id": "8fe4f1fb",
        "outputId": "7da30ce8-eaf4-4fca-fac8-2f25fc0de68e"
      },
      "outputs": [
        {
          "name": "stdout",
          "output_type": "stream",
          "text": [
            "[[ 1.  1.  1.  0.  0.  1.]\n",
            " [ 0.  1.  3. -1.  0.  5.]\n",
            " [ 0.  3.  2.  0.  1.  1.]]\n"
          ]
        }
      ],
      "source": [
        "A5 = scale_row(A4,-1,1)\n",
        "print(A5)"
      ]
    },
    {
      "cell_type": "code",
      "execution_count": null,
      "id": "5853c0d2",
      "metadata": {
        "id": "5853c0d2",
        "outputId": "6eaeae1b-daaa-41e6-aede-555c850ff8c2"
      },
      "outputs": [
        {
          "name": "stdout",
          "output_type": "stream",
          "text": [
            "[[  1.   1.   1.   0.   0.   1.]\n",
            " [  0.   1.   3.  -1.   0.   5.]\n",
            " [  0.   0.  -7.   3.   1. -14.]]\n"
          ]
        }
      ],
      "source": [
        "A6 = add_row(A5,-3,2,1)\n",
        "print(A6)"
      ]
    },
    {
      "cell_type": "code",
      "execution_count": null,
      "id": "de93a116",
      "metadata": {
        "id": "de93a116",
        "outputId": "d31d643c-0560-420e-f405-433a3b1dcbc6"
      },
      "outputs": [
        {
          "name": "stdout",
          "output_type": "stream",
          "text": [
            "[[ 1.          1.          1.          0.          0.          1.        ]\n",
            " [ 0.          1.          3.         -1.          0.          5.        ]\n",
            " [ 0.          0.          1.         -0.42857143 -0.14285714  2.        ]]\n"
          ]
        }
      ],
      "source": [
        "A7 = scale_row(A6,-1/7,2)\n",
        "print(A7)"
      ]
    },
    {
      "cell_type": "code",
      "execution_count": null,
      "id": "b39a1824",
      "metadata": {
        "id": "b39a1824",
        "outputId": "673f7c06-f129-4250-a93f-83c4795d4aa8"
      },
      "outputs": [
        {
          "name": "stdout",
          "output_type": "stream",
          "text": [
            "[[ 1.          1.          1.          0.          0.          1.        ]\n",
            " [ 0.          1.          0.          0.28571429  0.42857143 -1.        ]\n",
            " [ 0.          0.          1.         -0.42857143 -0.14285714  2.        ]]\n"
          ]
        }
      ],
      "source": [
        "A8 = add_row(A7,-3,1,2)\n",
        "print(A8)"
      ]
    },
    {
      "cell_type": "code",
      "execution_count": null,
      "id": "6308ebb8",
      "metadata": {
        "id": "6308ebb8",
        "outputId": "d91dcba0-2144-4f27-c6f7-6bdbeeed32c1"
      },
      "outputs": [
        {
          "name": "stdout",
          "output_type": "stream",
          "text": [
            "[[ 1.          1.          0.          0.42857143  0.14285714 -1.        ]\n",
            " [ 0.          1.          0.          0.28571429  0.42857143 -1.        ]\n",
            " [ 0.          0.          1.         -0.42857143 -0.14285714  2.        ]]\n"
          ]
        }
      ],
      "source": [
        "A9 = add_row(A8,-1,0,2)\n",
        "print(A9)"
      ]
    },
    {
      "cell_type": "code",
      "execution_count": null,
      "id": "9e70e2e1",
      "metadata": {
        "id": "9e70e2e1",
        "outputId": "a6f7a7f9-5350-4382-e8f8-b3fa51699c2e"
      },
      "outputs": [
        {
          "name": "stdout",
          "output_type": "stream",
          "text": [
            "[[ 1.          0.          0.          0.14285714 -0.28571429  0.        ]\n",
            " [ 0.          1.          0.          0.28571429  0.42857143 -1.        ]\n",
            " [ 0.          0.          1.         -0.42857143 -0.14285714  2.        ]]\n"
          ]
        }
      ],
      "source": [
        "A10 = add_row(A9,-1,0,1)\n",
        "print(A10)"
      ]
    },
    {
      "cell_type": "code",
      "execution_count": null,
      "id": "52189ebc",
      "metadata": {
        "id": "52189ebc",
        "outputId": "a27f1560-b1d4-427b-c6b3-8efa1a42c554"
      },
      "outputs": [
        {
          "name": "stdout",
          "output_type": "stream",
          "text": [
            "[[ 0.14285714 -0.28571429  0.        ]\n",
            " [ 0.28571429  0.42857143 -1.        ]\n",
            " [-0.42857143 -0.14285714  2.        ]]\n"
          ]
        }
      ],
      "source": [
        "Yinv = A10[:,3:]\n",
        "print(Yinv)"
      ]
    },
    {
      "cell_type": "code",
      "execution_count": null,
      "id": "5216c0de",
      "metadata": {
        "id": "5216c0de",
        "outputId": "fdb0b42a-adf3-4056-b6ce-c2de57c5a9a3"
      },
      "outputs": [
        {
          "data": {
            "text/plain": [
              "array([[ 0.14285714, -0.28571429,  0.        ],\n",
              "       [ 0.28571429,  0.42857143, -1.        ],\n",
              "       [-0.42857143, -0.14285714,  2.        ]])"
            ]
          },
          "execution_count": 29,
          "metadata": {},
          "output_type": "execute_result"
        }
      ],
      "source": [
        "A10[:,3:]"
      ]
    },
    {
      "cell_type": "code",
      "execution_count": null,
      "id": "fb59fa93",
      "metadata": {
        "id": "fb59fa93",
        "outputId": "d83457ea-e812-424a-d7a0-7a3da0372462"
      },
      "outputs": [
        {
          "data": {
            "text/plain": [
              "array([[ 0.14285714, -0.28571429,  0.        ],\n",
              "       [ 0.28571429,  0.42857143, -1.        ],\n",
              "       [-0.42857143, -0.14285714,  2.        ]])"
            ]
          },
          "execution_count": 30,
          "metadata": {},
          "output_type": "execute_result"
        }
      ],
      "source": [
        "np.linalg.inv(Y)"
      ]
    },
    {
      "cell_type": "code",
      "execution_count": null,
      "id": "35f13f6a",
      "metadata": {
        "id": "35f13f6a"
      },
      "outputs": [],
      "source": [
        "import numpy as np\n",
        "\n",
        "def GEPP(A, b, doPivot = True):\n",
        "    '''\n",
        "    Gaussian elimination with partial pivoting.\n",
        "\n",
        "    input: A is an n x n numpy matrix\n",
        "           b is an n x 1 numpy array\n",
        "    output: x is the solution of Ax=b\n",
        "            with the entries permuted in\n",
        "            accordance with the pivoting\n",
        "            done by the algorithm\n",
        "    post-condition: A and b have been modified.\n",
        "    '''\n",
        "    n = len(A)\n",
        "    print(f'n={n}')\n",
        "    if b.size != n:\n",
        "        raise ValueError(\"Invalid argument: incompatible sizes between\"+\n",
        "                         \"A and b.\", b.size, n)\n",
        "    # k represents the current pivot row. Since GE traverses the matrix in the\n",
        "    # upper right triangle, we also use k for indicating the k-th diagonal\n",
        "    # column index.\n",
        "\n",
        "    # Elimination\n",
        "    for k in range(n-1):\n",
        "        if doPivot:\n",
        "            # Pivot\n",
        "            maxindex = abs(A[k:,k]).argmax() + k\n",
        "            if A[maxindex, k] == 0:\n",
        "                raise ValueError(\"Matrix is singular.\")\n",
        "            # Swap\n",
        "            if maxindex != k:\n",
        "                A[[k,maxindex]] = A[[maxindex, k]]\n",
        "                b[[k,maxindex]] = b[[maxindex, k]]\n",
        "        else:\n",
        "            if A[k, k] == 0:\n",
        "                raise ValueError(\"Pivot element is zero. Try setting doPivot to True.\")\n",
        "        #Eliminate\n",
        "        for row in range(k+1, n):\n",
        "            multiplier = A[row,k]/A[k,k]\n",
        "            A[row, k:] = A[row, k:] - multiplier*A[k, k:]\n",
        "            b[row] = b[row] - multiplier*b[k]\n",
        "    # Back Substitution\n",
        "    x = np.zeros(n)\n",
        "    for k in range(n-1, -1, -1):\n",
        "        print(f'k={k}')\n",
        "        x[k] = (b[k] - np.dot(A[k,k+1:n],x[k+1:n]))/A[k,k]\n",
        "    return x"
      ]
    },
    {
      "cell_type": "markdown",
      "id": "c6993c89",
      "metadata": {
        "id": "c6993c89"
      },
      "source": [
        "# <font face=\"Sans\" color=\"blue\"> LU Factorization</font>"
      ]
    },
    {
      "cell_type": "markdown",
      "id": "865ffa74",
      "metadata": {
        "id": "865ffa74"
      },
      "source": [
        "We aim to decompose a matrix $A$ into $L$ and $U$, which represent _lower_ and _upper triangular matrix_ respectively. And $L$ must have $1$'s on its principal diagonal.\n",
        "$$\n",
        "A = LU\n",
        "$$\n",
        "For instance,\n",
        "$$\n",
        "A=\\underbrace{\\left[\\begin{array}{cccc}\n",
        "1 & 0 & 0 & 0 \\\\\n",
        "* & 1 & 0 & 0 \\\\\n",
        "* & * & 1 & 0 \\\\\n",
        "* & * & * & 1\n",
        "\\end{array}\\right]}_{L}\\underbrace{\\left[\\begin{array}{cccc}\n",
        "* & * & * & * \\\\\n",
        "0 & * & * & * \\\\\n",
        "0 & 0 & * & * \\\\\n",
        "0 & 0 & 0 & *\n",
        "\\end{array}\\right]}_{U}\n",
        "$$"
      ]
    },
    {
      "cell_type": "markdown",
      "id": "894a68d8",
      "metadata": {
        "id": "894a68d8"
      },
      "source": [
        "An example here:\n",
        "\n",
        "$$\n",
        "A =\n",
        "\\begin{bmatrix}\n",
        "9 & 3 & 6\\\\3 & 4 & 6\\\\0 & 8 & 8\\\\\n",
        "\\end{bmatrix}\n",
        "$$\n",
        "Use Gaussian elimination to get U. Store the multipliers. They are elements of L"
      ]
    },
    {
      "cell_type": "code",
      "execution_count": null,
      "id": "d3b89995",
      "metadata": {
        "id": "d3b89995"
      },
      "outputs": [],
      "source": [
        "import scipy as sp"
      ]
    },
    {
      "cell_type": "code",
      "execution_count": null,
      "id": "d442e2a6",
      "metadata": {
        "id": "d442e2a6",
        "outputId": "3c333cd5-d716-4b56-d87d-ff488d04dc80"
      },
      "outputs": [
        {
          "data": {
            "text/plain": [
              "array([[9, 3, 6],\n",
              "       [3, 4, 6],\n",
              "       [0, 8, 8]])"
            ]
          },
          "execution_count": 33,
          "metadata": {},
          "output_type": "execute_result"
        }
      ],
      "source": [
        "A = np.array([[9, 3, 6], [3, 4, 6], [0, 8, 8]]); A"
      ]
    },
    {
      "cell_type": "code",
      "execution_count": null,
      "id": "3d9a93b2",
      "metadata": {
        "id": "3d9a93b2",
        "outputId": "9c5854da-b5b1-4445-d440-a31b2003ceb5"
      },
      "outputs": [
        {
          "name": "stdout",
          "output_type": "stream",
          "text": [
            "[[1. 0. 0.]\n",
            " [0. 0. 1.]\n",
            " [0. 1. 0.]]\n",
            "[[1.         0.         0.        ]\n",
            " [0.         1.         0.        ]\n",
            " [0.33333333 0.375      1.        ]]\n",
            "[[9. 3. 6.]\n",
            " [0. 8. 8.]\n",
            " [0. 0. 1.]]\n"
          ]
        }
      ],
      "source": [
        "P, L, U = sp.linalg.lu(A)\n",
        "print(P)\n",
        "print(L)\n",
        "print(U)"
      ]
    },
    {
      "cell_type": "code",
      "execution_count": null,
      "id": "408c79a2",
      "metadata": {
        "id": "408c79a2",
        "outputId": "ee4ca7c4-f90c-4025-915f-9d24f80c100b"
      },
      "outputs": [
        {
          "data": {
            "text/plain": [
              "array([[9., 3., 6.],\n",
              "       [3., 4., 6.],\n",
              "       [0., 8., 8.]])"
            ]
          },
          "execution_count": 35,
          "metadata": {},
          "output_type": "execute_result"
        }
      ],
      "source": [
        "P@L@U #returns A"
      ]
    },
    {
      "cell_type": "markdown",
      "id": "0beb0e31",
      "metadata": {
        "id": "0beb0e31"
      },
      "source": [
        "Note that the SciPy ```lu``` function gives us $L$, $U$ and $P$.\n",
        "\n",
        "$P$ which is a **permutation matrix**. In general we may not need row swaps to convert $A$ into $U$. In some cases we need to switch/swap the rows, otherwise decomposition will not happen.\n",
        "\n",
        "Thus Scipy uses $PLU$ decomposition to make the procedure always possible\n",
        "$$\n",
        "A  = PLU\n",
        "$$"
      ]
    },
    {
      "cell_type": "markdown",
      "id": "b3079830",
      "metadata": {
        "id": "b3079830"
      },
      "source": [
        "Solve the linear system：\n",
        "$$\n",
        "\\begin{align}\n",
        "3x_1-7x_2 -2x_3+2x_4&=-9\\\\\n",
        "-3x_1+5x_2 +x_3 &=5\\\\\n",
        "6x_1-4x_2 -5x_4&=7\\\\\n",
        "-9x_1+5x_2 -5x_3+12x_4&=11\\\\\n",
        "\\end{align}\n",
        "$$\n",
        "In matrix form:\n",
        "$$\n",
        "\\underbrace{\\left[\\begin{array}{rrrr}\n",
        "3 & -7 & -2 & 2 \\\\\n",
        "-3 & 5 & 1 & 0 \\\\\n",
        "6 & -4 & 0 & -5 \\\\\n",
        "-9 & 5 & -5 & 12\n",
        "\\end{array}\\right]}_{A}\n",
        "\\left[\\begin{array}{r}\n",
        "x_1 \\\\\n",
        "x_2 \\\\\n",
        "x_3 \\\\\n",
        "x_4\n",
        "\\end{array}\\right]\n",
        "=\n",
        "\\underbrace{\\left[\\begin{array}{r}\n",
        "-9 \\\\\n",
        "5 \\\\\n",
        "7 \\\\\n",
        "11\n",
        "\\end{array}\\right]}_{b}\n",
        "$$\n",
        "Perform $LU$ decomposition:\n",
        "\n",
        "$$\\underbrace{\\left[\\begin{array}{rrrr}\n",
        "3 & -7 & -2 & 2 \\\\\n",
        "-3 & 5 & 1 & 0 \\\\\n",
        "6 & -4 & 0 & -5 \\\\\n",
        "-9 & 5 & -5 & 12\n",
        "\\end{array}\\right]}_{A}\n",
        "=\\underbrace{\n",
        "\\left[\\begin{array}{rrrr}\n",
        "1 & 0 & 0 & 0 \\\\\n",
        "-1 & 1 & 0 & 0 \\\\\n",
        "2 & -5 & 1 & 0 \\\\\n",
        "-3 & 8 & 3 & 1\n",
        "\\end{array}\\right]}_{L}\\underbrace{\\left[\\begin{array}{rrrr}\n",
        "3 & -7 & -2 & 2 \\\\\n",
        "0 & -2 & -1 & 2 \\\\\n",
        "0 & 0 & -1 & 1 \\\\\n",
        "0 & 0 & 0 & -1\n",
        "\\end{array}\\right]}_{U}$$"
      ]
    },
    {
      "cell_type": "markdown",
      "id": "d4c1eda7",
      "metadata": {
        "id": "d4c1eda7"
      },
      "source": [
        "Replace $A$ by $LU$, we get $L(Ux) = b$, now solve this pair of equations\n",
        "\n",
        "$$\n",
        "Ly = b\\\\\n",
        "Ux = y\n",
        "$$\n",
        "\n",
        "Construct augmented matrix $[L|b]$"
      ]
    },
    {
      "cell_type": "markdown",
      "id": "d9f7feac",
      "metadata": {
        "id": "d9f7feac"
      },
      "source": [
        "$$\n",
        "\\underbrace{\n",
        "\\left[\\begin{array}{rrrr}\n",
        "1 & 0 & 0 & 0 \\\\\n",
        "-1 & 1 & 0 & 0 \\\\\n",
        "2 & -5 & 1 & 0 \\\\\n",
        "-3 & 8 & 3 & 1\n",
        "\\end{array}\\right]}_{L}\n",
        "\\underbrace{\\left[\\begin{array}{r}\n",
        "y_1 \\\\\n",
        "y_2 \\\\\n",
        "y_3 \\\\\n",
        "y_4\n",
        "\\end{array}\\right]}_{y}\n",
        "=\n",
        "\\underbrace{\\left[\\begin{array}{r}\n",
        "-9 \\\\\n",
        "5 \\\\\n",
        "7 \\\\\n",
        "11\n",
        "\\end{array}\\right]}_{b}\n",
        "$$"
      ]
    },
    {
      "cell_type": "markdown",
      "id": "b56752b7",
      "metadata": {
        "id": "b56752b7"
      },
      "source": [
        "$$\n",
        "\\left[\\begin{array}{r}\n",
        "y_1 \\\\\n",
        "y_2 \\\\\n",
        "y_3 \\\\\n",
        "y_4\n",
        "\\end{array}\\right]=\n",
        "\\left[\\begin{array}{r}\n",
        "-9 \\\\\n",
        "-4 \\\\\n",
        "5 \\\\\n",
        "1\n",
        "\\end{array}\\right]\n",
        "$$"
      ]
    },
    {
      "cell_type": "markdown",
      "id": "89192dbe",
      "metadata": {
        "id": "89192dbe"
      },
      "source": [
        "Next we solve $Ux = y$ to get solution"
      ]
    },
    {
      "cell_type": "code",
      "execution_count": null,
      "id": "3666f3dd",
      "metadata": {
        "id": "3666f3dd",
        "outputId": "cbacead0-0c83-4fc7-8dc6-2e50f6f0dc41"
      },
      "outputs": [
        {
          "name": "stdout",
          "output_type": "stream",
          "text": [
            "[[ 1  2 -1 -1]\n",
            " [ 4  8 -4  2]\n",
            " [ 1  1  1  2]\n",
            " [ 3  3  4  4]]\n",
            "[[-9  5  7 11]]\n"
          ]
        }
      ],
      "source": [
        "AA = np.array([[1,2,-1,-1],[4,8,-4,2],[1,1,1,2],[3,3,4,4]])\n",
        "b = np.array([[-9,5,7,11]])\n",
        "print(AA)\n",
        "print(b)"
      ]
    },
    {
      "cell_type": "code",
      "execution_count": null,
      "id": "aef101a1",
      "metadata": {
        "id": "aef101a1",
        "outputId": "5f8d4f2f-c060-4527-84ae-77165857aeed"
      },
      "outputs": [
        {
          "name": "stdout",
          "output_type": "stream",
          "text": [
            "[[-22.16666667]\n",
            " [ 11.83333333]\n",
            " [  3.66666667]\n",
            " [  6.83333333]]\n"
          ]
        },
        {
          "data": {
            "text/plain": [
              "array([[-22.16666667],\n",
              "       [ 11.83333333],\n",
              "       [  3.66666667],\n",
              "       [  6.83333333]])"
            ]
          },
          "execution_count": 37,
          "metadata": {},
          "output_type": "execute_result"
        }
      ],
      "source": [
        "P,L,U = sp.linalg.lu(AA)\n",
        "#print(P)\n",
        "#print(L)\n",
        "#print(U)\n",
        "L1 = P@L\n",
        "#print(L1)\n",
        "y = sp.linalg.solve(L1,b.T)\n",
        "#print(y)\n",
        "x = sp.linalg.solve(U,y)\n",
        "print(x)\n",
        "\n",
        "sol=sp.linalg.solve(AA,b.T)\n",
        "sol"
      ]
    },
    {
      "cell_type": "code",
      "execution_count": null,
      "id": "16459f48",
      "metadata": {
        "id": "16459f48"
      },
      "outputs": [],
      "source": [
        "def lu(A):\n",
        "\n",
        "    #Get the number of rows\n",
        "    n = A.shape[0]\n",
        "\n",
        "    U = A.copy()\n",
        "    L = np.eye(n, dtype=np.double)\n",
        "#    L = np.eye(n, dtype=float)\n",
        "\n",
        "    #Loop over rows\n",
        "    for i in range(n):\n",
        "\n",
        "        #Eliminate entries below i with row operations\n",
        "        #on U and reverse the row operations to\n",
        "        #manipulate L\n",
        "        factor = U[i+1:, i] / U[i, i]\n",
        "        L[i+1:, i] = factor\n",
        "        U[i+1:] = U[i+1:] - factor[:, np.newaxis] * U[i]\n",
        "\n",
        "    return L, U"
      ]
    },
    {
      "cell_type": "code",
      "execution_count": null,
      "id": "5dbebc8d",
      "metadata": {
        "id": "5dbebc8d",
        "outputId": "2872c760-547b-41c0-f24a-46e20e430da8"
      },
      "outputs": [
        {
          "data": {
            "text/plain": [
              "array([[ 1,  2, -1, -1],\n",
              "       [ 4,  8, -4,  2],\n",
              "       [ 1,  1,  1,  2],\n",
              "       [ 3,  3,  4,  4]])"
            ]
          },
          "execution_count": 39,
          "metadata": {},
          "output_type": "execute_result"
        }
      ],
      "source": [
        "AA"
      ]
    },
    {
      "cell_type": "code",
      "execution_count": null,
      "id": "9708db88",
      "metadata": {
        "id": "9708db88"
      },
      "outputs": [],
      "source": [
        "#lu(AA)"
      ]
    },
    {
      "cell_type": "code",
      "execution_count": null,
      "id": "bfe314a6",
      "metadata": {
        "id": "bfe314a6"
      },
      "outputs": [],
      "source": []
    }
  ],
  "metadata": {
    "kernelspec": {
      "display_name": "Python 3 (ipykernel)",
      "language": "python",
      "name": "python3"
    },
    "language_info": {
      "codemirror_mode": {
        "name": "ipython",
        "version": 3
      },
      "file_extension": ".py",
      "mimetype": "text/x-python",
      "name": "python",
      "nbconvert_exporter": "python",
      "pygments_lexer": "ipython3",
      "version": "3.11.9"
    },
    "colab": {
      "provenance": [],
      "include_colab_link": true
    }
  },
  "nbformat": 4,
  "nbformat_minor": 5
}