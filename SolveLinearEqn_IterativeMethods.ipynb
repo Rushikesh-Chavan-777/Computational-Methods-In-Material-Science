{
  "cells": [
    {
      "cell_type": "markdown",
      "metadata": {
        "id": "view-in-github",
        "colab_type": "text"
      },
      "source": [
        "<a href=\"https://colab.research.google.com/github/Rushikesh-Chavan-777/Computational-Methods-In-Material-Science/blob/main/SolveLinearEqn_IterativeMethods.ipynb\" target=\"_parent\"><img src=\"https://colab.research.google.com/assets/colab-badge.svg\" alt=\"Open In Colab\"/></a>"
      ]
    },
    {
      "cell_type": "code",
      "execution_count": null,
      "id": "a07ae3f1-5e6e-421f-8c6c-7dcdf260a4e9",
      "metadata": {
        "id": "a07ae3f1-5e6e-421f-8c6c-7dcdf260a4e9"
      },
      "outputs": [],
      "source": [
        "%matplotlib inline\n",
        "import numpy as np\n",
        "import scipy as sp\n",
        "import pandas as pd\n",
        "import matplotlib.pyplot as plt"
      ]
    },
    {
      "cell_type": "markdown",
      "id": "985b496a-10b1-4133-ab5b-ae4bc95579f4",
      "metadata": {
        "id": "985b496a-10b1-4133-ab5b-ae4bc95579f4"
      },
      "source": [
        "#### Gauss Jacobi Iteration Method\n",
        "\n",
        "$$\n",
        "x_i^{k+1} = \\left(b_i -\\sum_{j=1}^{i-1} a_{ij}x_j^k -\\sum_{j=i+1}^{n} a_{ij}x_j^k\\right)/a_{ii}\n",
        "$$\n",
        "\n",
        "In a condensed form:\n",
        "$$\n",
        "x_i^{k+1} = \\left(b_i -\\sum_{j=1, j\\neq i}^n a_{ij}x_j^k\\right)/a_{ii}\n",
        "$$\n",
        "\n",
        "\n",
        "How do I define $x_i^{k+1} - x_i^k$?\n",
        "\n",
        "Let $e_i = x_i^{k+1} - x_i^k$\n",
        "\n",
        "1. Measure of convergence is max($e_i$) < Tolerance (maximum error between old and new values of x will be compared with a user-defined Tolerance) $L_{\\infty}$ norm\n",
        "\n",
        "2. $L_2$ norm: $\\sqrt{\\sum_{i=1}^N e_i^2}$"
      ]
    },
    {
      "cell_type": "markdown",
      "id": "492d7cf9-300a-4ca2-bf34-333aa761882b",
      "metadata": {
        "id": "492d7cf9-300a-4ca2-bf34-333aa761882b"
      },
      "source": [
        "##### Consider set of linear equations\n",
        "\n",
        "$$\n",
        "10 x_1 - x_2 + 2 x_3 = 6,\n",
        "$$\n",
        "\n",
        "$$\n",
        "-x_1 + 11 x_2 -x_3 + 3 x_4 = 25,\n",
        "$$\n",
        "\n",
        "$$\n",
        "2 x_1 - x_2 + 10x_3 -x_4 = -11,\n",
        "$$\n",
        "\n",
        "$$\n",
        "-3x_2 -x_3 +8x_4 = 15\n",
        "$$"
      ]
    },
    {
      "cell_type": "code",
      "execution_count": null,
      "id": "a6129af0-807b-4634-82ca-cb06d87781d8",
      "metadata": {
        "id": "a6129af0-807b-4634-82ca-cb06d87781d8"
      },
      "outputs": [],
      "source": [
        "#create Ax = b, using numpy arrays\n",
        "\n",
        "A = np.array([[10,-1,2,0],[-1,11,-1,3],[2,-1,10,-1],[0,-3,-1,8]])\n",
        "b = np.array([[6,25,-11,15]])\n",
        "b = np.transpose(b)"
      ]
    },
    {
      "cell_type": "code",
      "execution_count": null,
      "id": "20c8b29e-17fb-4a47-b8ed-dc6c08c6cf28",
      "metadata": {
        "id": "20c8b29e-17fb-4a47-b8ed-dc6c08c6cf28",
        "outputId": "dcb9a58d-fa6e-47b3-a76d-cce3f3a9dfbb"
      },
      "outputs": [
        {
          "data": {
            "text/plain": [
              "array([[10, -1,  2,  0],\n",
              "       [-1, 11, -1,  3],\n",
              "       [ 2, -1, 10, -1],\n",
              "       [ 0, -3, -1,  8]])"
            ]
          },
          "execution_count": 5,
          "metadata": {},
          "output_type": "execute_result"
        }
      ],
      "source": [
        "A"
      ]
    },
    {
      "cell_type": "code",
      "execution_count": null,
      "id": "5f3b4feb-3e66-457d-a47d-d28a42b0fe2a",
      "metadata": {
        "id": "5f3b4feb-3e66-457d-a47d-d28a42b0fe2a",
        "outputId": "286ba01e-a5e5-46da-b14a-a060c7402826"
      },
      "outputs": [
        {
          "data": {
            "text/plain": [
              "array([[  6],\n",
              "       [ 25],\n",
              "       [-11],\n",
              "       [ 15]])"
            ]
          },
          "execution_count": 6,
          "metadata": {},
          "output_type": "execute_result"
        }
      ],
      "source": [
        "b"
      ]
    },
    {
      "cell_type": "code",
      "execution_count": null,
      "id": "8977a7d5-075d-4265-82c0-c3432c9cded4",
      "metadata": {
        "id": "8977a7d5-075d-4265-82c0-c3432c9cded4",
        "outputId": "74007fa9-b92f-4618-bdb1-6affa9b144fd"
      },
      "outputs": [
        {
          "data": {
            "text/plain": [
              "array([10, 11, 10,  8])"
            ]
          },
          "execution_count": 7,
          "metadata": {},
          "output_type": "execute_result"
        }
      ],
      "source": [
        "np.diagonal(A)"
      ]
    },
    {
      "cell_type": "code",
      "execution_count": null,
      "id": "1f7bf07a-8509-4ffb-8e9c-4e7ae8ea6ee2",
      "metadata": {
        "id": "1f7bf07a-8509-4ffb-8e9c-4e7ae8ea6ee2",
        "outputId": "ab216098-f256-4329-d773-d6e91e357e6e"
      },
      "outputs": [
        {
          "data": {
            "text/plain": [
              "array([[10,  0,  0,  0],\n",
              "       [ 0, 11,  0,  0],\n",
              "       [ 0,  0, 10,  0],\n",
              "       [ 0,  0,  0,  8]])"
            ]
          },
          "execution_count": 8,
          "metadata": {},
          "output_type": "execute_result"
        }
      ],
      "source": [
        "D = np.diag(np.diagonal(A))\n",
        "D"
      ]
    },
    {
      "cell_type": "code",
      "execution_count": null,
      "id": "1ba0d86f-1a14-4463-810c-60ea7402686c",
      "metadata": {
        "id": "1ba0d86f-1a14-4463-810c-60ea7402686c",
        "outputId": "02ab4fa4-e841-4c18-c9d8-dd716ed94713"
      },
      "outputs": [
        {
          "data": {
            "text/plain": [
              "array([[ 0, -1,  2,  0],\n",
              "       [-1,  0, -1,  3],\n",
              "       [ 2, -1,  0, -1],\n",
              "       [ 0, -3, -1,  0]])"
            ]
          },
          "execution_count": 9,
          "metadata": {},
          "output_type": "execute_result"
        }
      ],
      "source": [
        "LU = A - np.diag(np.diagonal(A))\n",
        "LU"
      ]
    },
    {
      "cell_type": "code",
      "execution_count": null,
      "id": "9e0a907a-2c9d-4caa-8f56-feac1fe4878a",
      "metadata": {
        "id": "9e0a907a-2c9d-4caa-8f56-feac1fe4878a",
        "outputId": "f1463607-a720-4fad-ee64-a84d90ed90cb"
      },
      "outputs": [
        {
          "data": {
            "text/plain": [
              "array([[0],\n",
              "       [0],\n",
              "       [0],\n",
              "       [0]])"
            ]
          },
          "execution_count": 10,
          "metadata": {},
          "output_type": "execute_result"
        }
      ],
      "source": [
        "x_o = np.zeros_like(b)\n",
        "x_o"
      ]
    },
    {
      "cell_type": "code",
      "execution_count": null,
      "id": "fa6f5d02-61b3-4050-a4a8-def8a2af5e5e",
      "metadata": {
        "id": "fa6f5d02-61b3-4050-a4a8-def8a2af5e5e"
      },
      "outputs": [],
      "source": [
        "x = np.zeros_like(b)"
      ]
    },
    {
      "cell_type": "code",
      "execution_count": null,
      "id": "13f886e5-07d4-4f3e-bd53-5412caecb632",
      "metadata": {
        "id": "13f886e5-07d4-4f3e-bd53-5412caecb632",
        "outputId": "14331eb4-ceb2-4213-c94f-6b2457932d02"
      },
      "outputs": [
        {
          "data": {
            "text/plain": [
              "array([[  6],\n",
              "       [ 25],\n",
              "       [-11],\n",
              "       [ 15]])"
            ]
          },
          "execution_count": 12,
          "metadata": {},
          "output_type": "execute_result"
        }
      ],
      "source": [
        "x[:] = (b - np.dot(LU,x_o))\n",
        "x"
      ]
    },
    {
      "cell_type": "code",
      "execution_count": null,
      "id": "91fe9928-9115-4a18-9aee-872bbd7f07b9",
      "metadata": {
        "id": "91fe9928-9115-4a18-9aee-872bbd7f07b9",
        "outputId": "a1e8e3d6-7e67-43e7-bb75-456cb3453e7d"
      },
      "outputs": [
        {
          "data": {
            "text/plain": [
              "array([[0.1       , 0.        , 0.        , 0.        ],\n",
              "       [0.        , 0.09090909, 0.        , 0.        ],\n",
              "       [0.        , 0.        , 0.1       , 0.        ],\n",
              "       [0.        , 0.        , 0.        , 0.125     ]])"
            ]
          },
          "execution_count": 13,
          "metadata": {},
          "output_type": "execute_result"
        }
      ],
      "source": [
        "Dinv = np.linalg.inv(D)\n",
        "Dinv"
      ]
    },
    {
      "cell_type": "code",
      "execution_count": null,
      "id": "13b7c405-8ef2-455c-8713-f741fb6d17f2",
      "metadata": {
        "id": "13b7c405-8ef2-455c-8713-f741fb6d17f2",
        "outputId": "c80b1303-7f4d-4628-a53d-1d126f1c14a2"
      },
      "outputs": [
        {
          "data": {
            "text/plain": [
              "array([[ 0.6       ],\n",
              "       [ 2.27272727],\n",
              "       [-1.1       ],\n",
              "       [ 1.875     ]])"
            ]
          },
          "execution_count": 14,
          "metadata": {},
          "output_type": "execute_result"
        }
      ],
      "source": [
        "np.dot(Dinv, x)"
      ]
    },
    {
      "cell_type": "code",
      "execution_count": null,
      "id": "dfd5be8e-3c7f-46c2-b8b2-20f078748cf7",
      "metadata": {
        "id": "dfd5be8e-3c7f-46c2-b8b2-20f078748cf7",
        "outputId": "991e830d-f352-42d5-e8a8-ef40a8348518"
      },
      "outputs": [
        {
          "data": {
            "text/plain": [
              "4"
            ]
          },
          "execution_count": 15,
          "metadata": {},
          "output_type": "execute_result"
        }
      ],
      "source": [
        "n = np.size(b)\n",
        "n"
      ]
    },
    {
      "cell_type": "code",
      "execution_count": null,
      "id": "4b9fe9e5-b207-4f9c-a49d-0e2f999c7ae0",
      "metadata": {
        "id": "4b9fe9e5-b207-4f9c-a49d-0e2f999c7ae0",
        "outputId": "f912f574-1d37-4a68-c566-2f1f0541eb90"
      },
      "outputs": [
        {
          "data": {
            "text/plain": [
              "array([10, 11, 10,  8])"
            ]
          },
          "execution_count": 16,
          "metadata": {},
          "output_type": "execute_result"
        }
      ],
      "source": [
        "np.diagonal(A)"
      ]
    },
    {
      "cell_type": "code",
      "execution_count": null,
      "id": "3ce458b5-a002-4302-af2d-d43792b95bf2",
      "metadata": {
        "id": "3ce458b5-a002-4302-af2d-d43792b95bf2",
        "outputId": "84ba9c5d-7f24-4617-ee68-6a146db49bd4"
      },
      "outputs": [
        {
          "data": {
            "text/plain": [
              "array([[10],\n",
              "       [11],\n",
              "       [10],\n",
              "       [ 8]])"
            ]
          },
          "execution_count": 17,
          "metadata": {},
          "output_type": "execute_result"
        }
      ],
      "source": [
        "z = np.reshape(np.diagonal(A), [n,1])\n",
        "#z.shape\n",
        "z"
      ]
    },
    {
      "cell_type": "code",
      "execution_count": null,
      "id": "85e75abc-fb47-45bc-b12b-e7db7bc35f76",
      "metadata": {
        "id": "85e75abc-fb47-45bc-b12b-e7db7bc35f76",
        "outputId": "4416b110-32f9-42f4-d9dc-b7f1882e0117"
      },
      "outputs": [
        {
          "data": {
            "text/plain": [
              "array([[  6],\n",
              "       [ 25],\n",
              "       [-11],\n",
              "       [ 15]])"
            ]
          },
          "execution_count": 18,
          "metadata": {},
          "output_type": "execute_result"
        }
      ],
      "source": [
        "x"
      ]
    },
    {
      "cell_type": "code",
      "execution_count": null,
      "id": "b1a2f006-1a42-4b8d-8c1d-fd9aa66ca46e",
      "metadata": {
        "id": "b1a2f006-1a42-4b8d-8c1d-fd9aa66ca46e",
        "outputId": "b337e172-01e7-45e0-f8c5-145308cfa75d"
      },
      "outputs": [
        {
          "data": {
            "text/plain": [
              "array([[ 0.6       ],\n",
              "       [ 2.27272727],\n",
              "       [-1.1       ],\n",
              "       [ 1.875     ]])"
            ]
          },
          "execution_count": 19,
          "metadata": {},
          "output_type": "execute_result"
        }
      ],
      "source": [
        "x/z"
      ]
    },
    {
      "cell_type": "code",
      "execution_count": null,
      "id": "29abe51a-6def-4137-b573-4f3742a117c2",
      "metadata": {
        "id": "29abe51a-6def-4137-b573-4f3742a117c2",
        "outputId": "3464ccbd-7be8-49e7-adfd-f39828f80e57"
      },
      "outputs": [
        {
          "data": {
            "text/plain": [
              "array([[ 2.        ,  2.        ,  2.        ,  2.        ],\n",
              "       [ 8.33333333,  8.33333333,  8.33333333,  8.33333333],\n",
              "       [-3.66666667, -3.66666667, -3.66666667, -3.66666667],\n",
              "       [ 5.        ,  5.        ,  5.        ,  5.        ]])"
            ]
          },
          "execution_count": 20,
          "metadata": {},
          "output_type": "execute_result"
        }
      ],
      "source": [
        "## What if we have not reshaped z\n",
        "z = np.array([[3, 3, 3, 3]])\n",
        "z\n",
        "\n",
        "x\n",
        "x/z"
      ]
    },
    {
      "cell_type": "code",
      "execution_count": null,
      "id": "3d719805-6891-4e0e-9fdc-c36408d73d5b",
      "metadata": {
        "id": "3d719805-6891-4e0e-9fdc-c36408d73d5b",
        "outputId": "ff6490eb-304b-4cfa-f977-d455bcdbe32e"
      },
      "outputs": [
        {
          "data": {
            "text/plain": [
              "array([[10],\n",
              "       [11],\n",
              "       [10],\n",
              "       [ 8]])"
            ]
          },
          "execution_count": 21,
          "metadata": {},
          "output_type": "execute_result"
        }
      ],
      "source": [
        "z = np.reshape(np.diagonal(A), [n,1])\n",
        "#z.shape\n",
        "z"
      ]
    },
    {
      "cell_type": "code",
      "execution_count": null,
      "id": "6d8cbf4d-e98d-4bdd-b805-f87cd877dcf1",
      "metadata": {
        "id": "6d8cbf4d-e98d-4bdd-b805-f87cd877dcf1",
        "outputId": "828fe37e-f055-472d-d816-569b6dd619f0"
      },
      "outputs": [
        {
          "data": {
            "text/plain": [
              "array([[ 0.6       ],\n",
              "       [ 2.27272727],\n",
              "       [-1.1       ],\n",
              "       [ 1.875     ]])"
            ]
          },
          "execution_count": 22,
          "metadata": {},
          "output_type": "execute_result"
        }
      ],
      "source": [
        "x = (b - np.dot(LU,x_o))/z\n",
        "x"
      ]
    },
    {
      "cell_type": "code",
      "execution_count": null,
      "id": "4fd0ccaf-8791-4b27-b501-0d0b154fbd44",
      "metadata": {
        "id": "4fd0ccaf-8791-4b27-b501-0d0b154fbd44",
        "outputId": "2952cf85-110b-42df-f841-0e38d05a3f7f"
      },
      "outputs": [
        {
          "data": {
            "text/plain": [
              "array([[0],\n",
              "       [0],\n",
              "       [0],\n",
              "       [0]])"
            ]
          },
          "execution_count": 23,
          "metadata": {},
          "output_type": "execute_result"
        }
      ],
      "source": [
        "x_o"
      ]
    },
    {
      "cell_type": "code",
      "execution_count": null,
      "id": "f5a9065b-d889-41e0-9bae-8cdff6e2452b",
      "metadata": {
        "id": "f5a9065b-d889-41e0-9bae-8cdff6e2452b",
        "outputId": "a33744f8-bcec-4859-889a-2ebd9135cde6"
      },
      "outputs": [
        {
          "data": {
            "text/plain": [
              "3.201704898362488"
            ]
          },
          "execution_count": 24,
          "metadata": {},
          "output_type": "execute_result"
        }
      ],
      "source": [
        "##error\n",
        "e = np.linalg.norm(x-x_o)\n",
        "e"
      ]
    },
    {
      "cell_type": "code",
      "execution_count": null,
      "id": "b91ff31b-242f-4858-893a-87bf9b427876",
      "metadata": {
        "id": "b91ff31b-242f-4858-893a-87bf9b427876",
        "outputId": "500eb5ab-2d23-44e2-800a-1c0c8204cf65"
      },
      "outputs": [
        {
          "data": {
            "text/plain": [
              "3.201704898362488"
            ]
          },
          "execution_count": 25,
          "metadata": {},
          "output_type": "execute_result"
        }
      ],
      "source": [
        "e = np.linalg.norm(x-x_o, ord='fro')\n",
        "e"
      ]
    },
    {
      "cell_type": "code",
      "execution_count": null,
      "id": "6d301535-01dc-405c-87b1-59767df675dc",
      "metadata": {
        "id": "6d301535-01dc-405c-87b1-59767df675dc",
        "outputId": "9517c68f-c731-4a29-9a98-17faab22aef8"
      },
      "outputs": [
        {
          "name": "stdout",
          "output_type": "stream",
          "text": [
            "Iterations converged after 18 steps\n"
          ]
        }
      ],
      "source": [
        "### Putting all the above steps together in a iterative loop\n",
        "\n",
        "import numpy as np\n",
        "max_iter = 50\n",
        "Tol = 1.e-9\n",
        "\n",
        "A = np.array([[10,-1,2,0],[-1,11,-1,3],[2,-1,10,-1],[0,-3,-1,8]])\n",
        "b = np.array([[6,25,-11,15]])\n",
        "b = np.transpose(b)\n",
        "n = np.size(b)\n",
        "z = np.reshape(np.diagonal(A),[n,1])\n",
        "LU = A - np.diag(np.diagonal(A))\n",
        "x_o = np.zeros_like(b)\n",
        "for i in range(max_iter):\n",
        "    x = (b - np.dot(LU,x_o))/z\n",
        "    e = np.linalg.norm(x-x_o, ord='fro')\n",
        "    # print('after {} iteration:'.format(i))\n",
        "    # print('x={}'.format(x))\n",
        "    # print('error:{:.4e}\\n'.format(e))\n",
        "    if e < Tol:\n",
        "        print(f'Iterations converged after {i} steps')\n",
        "        break\n",
        "    x_o = x"
      ]
    },
    {
      "cell_type": "code",
      "execution_count": null,
      "id": "888abdbd-d1b8-433f-9301-23090729f790",
      "metadata": {
        "id": "888abdbd-d1b8-433f-9301-23090729f790"
      },
      "outputs": [],
      "source": [
        "### Putting it all together in a python function\n",
        "def myJacobi(A,b,max_iter,Tolerance):\n",
        "    n = np.size(A[0])\n",
        "    b = np.reshape(b,[n,1])\n",
        "    z = np.reshape(np.diagonal(A),[n,1])\n",
        "    # i != j\n",
        "    B = A - np.diag(np.diagonal(A))\n",
        "    x_o = np.zeros_like(b)\n",
        "    for i in range(max_iter):\n",
        "        x = (b - np.dot(B,x_o))/z\n",
        "        e = np.linalg.norm(x-x_o, ord='fro')\n",
        "        print(x,e)\n",
        "        if e < Tol:\n",
        "            print(f'Iterations converged after {i} steps')\n",
        "            break\n",
        "        x_o = x\n",
        "    return x"
      ]
    },
    {
      "cell_type": "markdown",
      "id": "a7f573a6-792e-48b2-99b3-dc3f17d3114b",
      "metadata": {
        "id": "a7f573a6-792e-48b2-99b3-dc3f17d3114b"
      },
      "source": [
        "### Gauss Seidel method\n",
        "\n",
        "$$\n",
        "x_i^{k+1} = \\left(b_i - \\sum_{j=1}^{i-1} a_{ij}x_j^{k+1} - \\sum_{j=i+1}^n a_{ij}x_j^k\\right)/a_{ii}\n",
        "$$"
      ]
    },
    {
      "cell_type": "markdown",
      "id": "ea08cf4b-620d-47c6-bd25-3900545a1907",
      "metadata": {
        "id": "ea08cf4b-620d-47c6-bd25-3900545a1907"
      },
      "source": [
        "##### Homework:\n",
        "1. Can you write down a python function for the Gauss-Seidel method?\n",
        "2. Solve the above set of equations using your Gauss-Seidel implementation, and check which method converges faster."
      ]
    }
  ],
  "metadata": {
    "kernelspec": {
      "display_name": "Python 3 (ipykernel)",
      "language": "python",
      "name": "python3"
    },
    "language_info": {
      "codemirror_mode": {
        "name": "ipython",
        "version": 3
      },
      "file_extension": ".py",
      "mimetype": "text/x-python",
      "name": "python",
      "nbconvert_exporter": "python",
      "pygments_lexer": "ipython3",
      "version": "3.11.9"
    },
    "colab": {
      "provenance": [],
      "include_colab_link": true
    }
  },
  "nbformat": 4,
  "nbformat_minor": 5
}